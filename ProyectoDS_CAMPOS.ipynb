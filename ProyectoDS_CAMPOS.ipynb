{
  "nbformat": 4,
  "nbformat_minor": 0,
  "metadata": {
    "colab": {
      "provenance": []
    },
    "kernelspec": {
      "name": "python3",
      "display_name": "Python 3"
    },
    "language_info": {
      "name": "python"
    }
  },
  "cells": [
    {
      "cell_type": "markdown",
      "source": [
        "# CODERHOUSE: Proyecto final\n",
        "\n",
        "> Agregar bloque entrecomillado\n",
        "\n",
        "\n",
        "\n",
        "- Alumna: Campos, Cecilia\n",
        "- Comisión: 60935\n",
        "- Profesor: Jorge Ruiz\n",
        "- Tutor: Diego Gasch"
      ],
      "metadata": {
        "id": "Mg34_GUotdwh"
      }
    },
    {
      "cell_type": "markdown",
      "source": [
        "#INTRODUCCIÓN\n",
        "\n",
        "El vino es una bebida apreciada en todo el mundo, con una rica historia y una amplia variedad de estilos y sabores. La calidad del vino, determinada por una combinación compleja de factores químicos y sensoriales, es un aspecto fundamental tanto para los productores como para los consumidores. Comprender cómo estas características químicas afectan la calidad del vino es crucial para garantizar su producción consistente y satisfacer las expectativas del mercado.\n"
      ],
      "metadata": {
        "id": "-njoJokxt1zF"
      }
    },
    {
      "cell_type": "markdown",
      "source": [
        "#ACERCA DE ESTE TRABAJO\n",
        "\n",
        "En este proyecto, nos proponemos explorar y analizar un conjunto de datos que contiene información detallada sobre la calidad del vino, así como sus características químicas clave. A través de técnicas de análisis de datos y machine learning, buscamos descubrir patrones, tendencias y relaciones ocultas en los datos que nos ayuden a comprender mejor qué hace que un vino sea de alta calidad y cómo mejorar su producción.\n",
        "\n",
        "Dado que el conjunto de datos contiene información sobre diversas características químicas del vino y su calidad, así como una variable objetivo (quality), se puede plantear un modelo de machine learning para predecir la calidad del vino en función de estas características."
      ],
      "metadata": {
        "id": "lRCACdP-u17k"
      }
    },
    {
      "cell_type": "markdown",
      "source": [
        "#APLICACIONES PRÁCTICAS DEL ESTUDIO\n",
        "\n",
        "\n",
        "1. Industria Vinícola:\n",
        "\n",
        "Mejora en la producción: Optimizar los procesos de producción para producir vino de mejor calidad basándose en las características químicas ideales.\n",
        "\n",
        "Control de calidad: Implementar controles de calidad más precisos durante la producción del vino.\n",
        "\n",
        "\n",
        "2. Marketing:\n",
        "\n",
        "Segmentación de productos: Crear estrategias de marketing basadas en la calidad del vino.\n",
        "\n",
        "Precios: Ajustar los precios según la calidad predicha del vino.\n",
        "Investigación y Desarrollo:\n",
        "\n",
        "Nuevas fórmulas: Desarrollar nuevas fórmulas y técnicas de producción para mejorar la calidad del vino basándose en los hallazgos del estudio.\n",
        "\n",
        "\n",
        "3. Educación:\n",
        "\n",
        "Formación: Utilizar los hallazgos para educar a productores de vino y enólogos sobre los factores que influyen en la calidad del vino."
      ],
      "metadata": {
        "id": "GU4cvPxiywMo"
      }
    },
    {
      "cell_type": "markdown",
      "source": [
        "#PROBLEMÁTICA A RESOLVER\n",
        "\n",
        "¿Cómo garantizar la Calidad del Vino?\n",
        "\n",
        "Para una bodega o empresa vitivinícola, la calidad del vino es un aspecto fundamental que influye directamente en su reputación, competitividad en el mercado y, en última instancia, en su éxito comercial. Sin embargo, garantizar consistentemente la calidad del vino es un desafío complejo que involucra una serie de factores interrelacionados, desde el proceso de producción hasta las preferencias cambiantes de los consumidores.\n",
        "\n",
        "En este sentido, surge la necesidad de contar con herramientas y técnicas que permitan comprender en profundidad las características químicas que influyen en la calidad del vino, así como predecir y optimizar su calidad de manera sistemática y eficiente. La falta de una comprensión integral de estos factores puede llevar a la producción de vinos de calidad inconsistente, lo que podría afectar negativamente la percepción de la marca y la lealtad del cliente.\n",
        "\n",
        "Por lo tanto, abordar este problema comercial requiere una aproximación analítica y basada en datos que permita a las bodegas y empresas vitivinícolas tomar decisiones informadas en todas las etapas del proceso de producción y comercialización del vino. Esto implica el uso de técnicas avanzadas de análisis de datos y machine learning para identificar patrones, tendencias y relaciones en los datos que puedan ayudar a optimizar la calidad del vino y satisfacer las demandas del mercado de manera efectiva."
      ],
      "metadata": {
        "id": "3_DKBnhMvSQn"
      }
    },
    {
      "cell_type": "markdown",
      "source": [],
      "metadata": {
        "id": "1evjB8ESupXt"
      }
    },
    {
      "cell_type": "markdown",
      "source": [
        "#Preparación del Entorno y Exploración de Datos"
      ],
      "metadata": {
        "id": "0bhkVzXWv9Qp"
      }
    },
    {
      "cell_type": "code",
      "source": [
        "import pandas as pd\n",
        "import seaborn as sns\n",
        "import matplotlib.pyplot as plt\n",
        "import numpy as np"
      ],
      "metadata": {
        "id": "cjuCykzqicNF"
      },
      "execution_count": null,
      "outputs": []
    },
    {
      "cell_type": "markdown",
      "source": [],
      "metadata": {
        "id": "uHvKj8KwtnNB"
      }
    },
    {
      "cell_type": "markdown",
      "source": [
        "#CARGA DE DATOS"
      ],
      "metadata": {
        "id": "kbXwfwGAvvK7"
      }
    },
    {
      "cell_type": "code",
      "source": [
        "from google.colab import drive\n",
        "drive.mount('/content/drive')"
      ],
      "metadata": {
        "colab": {
          "base_uri": "https://localhost:8080/"
        },
        "id": "YvJife7dj89H",
        "outputId": "68320f72-a86c-49bb-bae4-95344a10587a"
      },
      "execution_count": 6,
      "outputs": [
        {
          "output_type": "stream",
          "name": "stdout",
          "text": [
            "Mounted at /content/drive\n"
          ]
        }
      ]
    },
    {
      "cell_type": "code",
      "source": [
        "pd.read_csv(\"/content/drive/MyDrive/CODERHOUSE/winequality-red.csv\")"
      ],
      "metadata": {
        "id": "Iuf1UBMYkfGw",
        "colab": {
          "base_uri": "https://localhost:8080/",
          "height": 441
        },
        "outputId": "a6e688cb-34b3-46fe-ae9e-38338571ff76"
      },
      "execution_count": 7,
      "outputs": [
        {
          "output_type": "execute_result",
          "data": {
            "text/plain": [
              "      fixed acidity  volatile acidity  citric acid  residual sugar  chlorides  \\\n",
              "0               7.4             0.700         0.00             1.9      0.076   \n",
              "1               7.8             0.880         0.00             2.6      0.098   \n",
              "2               7.8             0.760         0.04             2.3      0.092   \n",
              "3              11.2             0.280         0.56             1.9      0.075   \n",
              "4               7.4             0.700         0.00             1.9      0.076   \n",
              "...             ...               ...          ...             ...        ...   \n",
              "1594            6.2             0.600         0.08             2.0      0.090   \n",
              "1595            5.9             0.550         0.10             2.2      0.062   \n",
              "1596            6.3             0.510         0.13             2.3      0.076   \n",
              "1597            5.9             0.645         0.12             2.0      0.075   \n",
              "1598            6.0             0.310         0.47             3.6      0.067   \n",
              "\n",
              "      free sulfur dioxide  total sulfur dioxide  density    pH  sulphates  \\\n",
              "0                    11.0                  34.0  0.99780  3.51       0.56   \n",
              "1                    25.0                  67.0  0.99680  3.20       0.68   \n",
              "2                    15.0                  54.0  0.99700  3.26       0.65   \n",
              "3                    17.0                  60.0  0.99800  3.16       0.58   \n",
              "4                    11.0                  34.0  0.99780  3.51       0.56   \n",
              "...                   ...                   ...      ...   ...        ...   \n",
              "1594                 32.0                  44.0  0.99490  3.45       0.58   \n",
              "1595                 39.0                  51.0  0.99512  3.52       0.76   \n",
              "1596                 29.0                  40.0  0.99574  3.42       0.75   \n",
              "1597                 32.0                  44.0  0.99547  3.57       0.71   \n",
              "1598                 18.0                  42.0  0.99549  3.39       0.66   \n",
              "\n",
              "      alcohol  quality  \n",
              "0         9.4        5  \n",
              "1         9.8        5  \n",
              "2         9.8        5  \n",
              "3         9.8        6  \n",
              "4         9.4        5  \n",
              "...       ...      ...  \n",
              "1594     10.5        5  \n",
              "1595     11.2        6  \n",
              "1596     11.0        6  \n",
              "1597     10.2        5  \n",
              "1598     11.0        6  \n",
              "\n",
              "[1599 rows x 12 columns]"
            ],
            "text/html": [
              "\n",
              "  <div id=\"df-1f5df4d6-f389-4bf9-85c3-24891390ad70\" class=\"colab-df-container\">\n",
              "    <div>\n",
              "<style scoped>\n",
              "    .dataframe tbody tr th:only-of-type {\n",
              "        vertical-align: middle;\n",
              "    }\n",
              "\n",
              "    .dataframe tbody tr th {\n",
              "        vertical-align: top;\n",
              "    }\n",
              "\n",
              "    .dataframe thead th {\n",
              "        text-align: right;\n",
              "    }\n",
              "</style>\n",
              "<table border=\"1\" class=\"dataframe\">\n",
              "  <thead>\n",
              "    <tr style=\"text-align: right;\">\n",
              "      <th></th>\n",
              "      <th>fixed acidity</th>\n",
              "      <th>volatile acidity</th>\n",
              "      <th>citric acid</th>\n",
              "      <th>residual sugar</th>\n",
              "      <th>chlorides</th>\n",
              "      <th>free sulfur dioxide</th>\n",
              "      <th>total sulfur dioxide</th>\n",
              "      <th>density</th>\n",
              "      <th>pH</th>\n",
              "      <th>sulphates</th>\n",
              "      <th>alcohol</th>\n",
              "      <th>quality</th>\n",
              "    </tr>\n",
              "  </thead>\n",
              "  <tbody>\n",
              "    <tr>\n",
              "      <th>0</th>\n",
              "      <td>7.4</td>\n",
              "      <td>0.700</td>\n",
              "      <td>0.00</td>\n",
              "      <td>1.9</td>\n",
              "      <td>0.076</td>\n",
              "      <td>11.0</td>\n",
              "      <td>34.0</td>\n",
              "      <td>0.99780</td>\n",
              "      <td>3.51</td>\n",
              "      <td>0.56</td>\n",
              "      <td>9.4</td>\n",
              "      <td>5</td>\n",
              "    </tr>\n",
              "    <tr>\n",
              "      <th>1</th>\n",
              "      <td>7.8</td>\n",
              "      <td>0.880</td>\n",
              "      <td>0.00</td>\n",
              "      <td>2.6</td>\n",
              "      <td>0.098</td>\n",
              "      <td>25.0</td>\n",
              "      <td>67.0</td>\n",
              "      <td>0.99680</td>\n",
              "      <td>3.20</td>\n",
              "      <td>0.68</td>\n",
              "      <td>9.8</td>\n",
              "      <td>5</td>\n",
              "    </tr>\n",
              "    <tr>\n",
              "      <th>2</th>\n",
              "      <td>7.8</td>\n",
              "      <td>0.760</td>\n",
              "      <td>0.04</td>\n",
              "      <td>2.3</td>\n",
              "      <td>0.092</td>\n",
              "      <td>15.0</td>\n",
              "      <td>54.0</td>\n",
              "      <td>0.99700</td>\n",
              "      <td>3.26</td>\n",
              "      <td>0.65</td>\n",
              "      <td>9.8</td>\n",
              "      <td>5</td>\n",
              "    </tr>\n",
              "    <tr>\n",
              "      <th>3</th>\n",
              "      <td>11.2</td>\n",
              "      <td>0.280</td>\n",
              "      <td>0.56</td>\n",
              "      <td>1.9</td>\n",
              "      <td>0.075</td>\n",
              "      <td>17.0</td>\n",
              "      <td>60.0</td>\n",
              "      <td>0.99800</td>\n",
              "      <td>3.16</td>\n",
              "      <td>0.58</td>\n",
              "      <td>9.8</td>\n",
              "      <td>6</td>\n",
              "    </tr>\n",
              "    <tr>\n",
              "      <th>4</th>\n",
              "      <td>7.4</td>\n",
              "      <td>0.700</td>\n",
              "      <td>0.00</td>\n",
              "      <td>1.9</td>\n",
              "      <td>0.076</td>\n",
              "      <td>11.0</td>\n",
              "      <td>34.0</td>\n",
              "      <td>0.99780</td>\n",
              "      <td>3.51</td>\n",
              "      <td>0.56</td>\n",
              "      <td>9.4</td>\n",
              "      <td>5</td>\n",
              "    </tr>\n",
              "    <tr>\n",
              "      <th>...</th>\n",
              "      <td>...</td>\n",
              "      <td>...</td>\n",
              "      <td>...</td>\n",
              "      <td>...</td>\n",
              "      <td>...</td>\n",
              "      <td>...</td>\n",
              "      <td>...</td>\n",
              "      <td>...</td>\n",
              "      <td>...</td>\n",
              "      <td>...</td>\n",
              "      <td>...</td>\n",
              "      <td>...</td>\n",
              "    </tr>\n",
              "    <tr>\n",
              "      <th>1594</th>\n",
              "      <td>6.2</td>\n",
              "      <td>0.600</td>\n",
              "      <td>0.08</td>\n",
              "      <td>2.0</td>\n",
              "      <td>0.090</td>\n",
              "      <td>32.0</td>\n",
              "      <td>44.0</td>\n",
              "      <td>0.99490</td>\n",
              "      <td>3.45</td>\n",
              "      <td>0.58</td>\n",
              "      <td>10.5</td>\n",
              "      <td>5</td>\n",
              "    </tr>\n",
              "    <tr>\n",
              "      <th>1595</th>\n",
              "      <td>5.9</td>\n",
              "      <td>0.550</td>\n",
              "      <td>0.10</td>\n",
              "      <td>2.2</td>\n",
              "      <td>0.062</td>\n",
              "      <td>39.0</td>\n",
              "      <td>51.0</td>\n",
              "      <td>0.99512</td>\n",
              "      <td>3.52</td>\n",
              "      <td>0.76</td>\n",
              "      <td>11.2</td>\n",
              "      <td>6</td>\n",
              "    </tr>\n",
              "    <tr>\n",
              "      <th>1596</th>\n",
              "      <td>6.3</td>\n",
              "      <td>0.510</td>\n",
              "      <td>0.13</td>\n",
              "      <td>2.3</td>\n",
              "      <td>0.076</td>\n",
              "      <td>29.0</td>\n",
              "      <td>40.0</td>\n",
              "      <td>0.99574</td>\n",
              "      <td>3.42</td>\n",
              "      <td>0.75</td>\n",
              "      <td>11.0</td>\n",
              "      <td>6</td>\n",
              "    </tr>\n",
              "    <tr>\n",
              "      <th>1597</th>\n",
              "      <td>5.9</td>\n",
              "      <td>0.645</td>\n",
              "      <td>0.12</td>\n",
              "      <td>2.0</td>\n",
              "      <td>0.075</td>\n",
              "      <td>32.0</td>\n",
              "      <td>44.0</td>\n",
              "      <td>0.99547</td>\n",
              "      <td>3.57</td>\n",
              "      <td>0.71</td>\n",
              "      <td>10.2</td>\n",
              "      <td>5</td>\n",
              "    </tr>\n",
              "    <tr>\n",
              "      <th>1598</th>\n",
              "      <td>6.0</td>\n",
              "      <td>0.310</td>\n",
              "      <td>0.47</td>\n",
              "      <td>3.6</td>\n",
              "      <td>0.067</td>\n",
              "      <td>18.0</td>\n",
              "      <td>42.0</td>\n",
              "      <td>0.99549</td>\n",
              "      <td>3.39</td>\n",
              "      <td>0.66</td>\n",
              "      <td>11.0</td>\n",
              "      <td>6</td>\n",
              "    </tr>\n",
              "  </tbody>\n",
              "</table>\n",
              "<p>1599 rows × 12 columns</p>\n",
              "</div>\n",
              "    <div class=\"colab-df-buttons\">\n",
              "\n",
              "  <div class=\"colab-df-container\">\n",
              "    <button class=\"colab-df-convert\" onclick=\"convertToInteractive('df-1f5df4d6-f389-4bf9-85c3-24891390ad70')\"\n",
              "            title=\"Convert this dataframe to an interactive table.\"\n",
              "            style=\"display:none;\">\n",
              "\n",
              "  <svg xmlns=\"http://www.w3.org/2000/svg\" height=\"24px\" viewBox=\"0 -960 960 960\">\n",
              "    <path d=\"M120-120v-720h720v720H120Zm60-500h600v-160H180v160Zm220 220h160v-160H400v160Zm0 220h160v-160H400v160ZM180-400h160v-160H180v160Zm440 0h160v-160H620v160ZM180-180h160v-160H180v160Zm440 0h160v-160H620v160Z\"/>\n",
              "  </svg>\n",
              "    </button>\n",
              "\n",
              "  <style>\n",
              "    .colab-df-container {\n",
              "      display:flex;\n",
              "      gap: 12px;\n",
              "    }\n",
              "\n",
              "    .colab-df-convert {\n",
              "      background-color: #E8F0FE;\n",
              "      border: none;\n",
              "      border-radius: 50%;\n",
              "      cursor: pointer;\n",
              "      display: none;\n",
              "      fill: #1967D2;\n",
              "      height: 32px;\n",
              "      padding: 0 0 0 0;\n",
              "      width: 32px;\n",
              "    }\n",
              "\n",
              "    .colab-df-convert:hover {\n",
              "      background-color: #E2EBFA;\n",
              "      box-shadow: 0px 1px 2px rgba(60, 64, 67, 0.3), 0px 1px 3px 1px rgba(60, 64, 67, 0.15);\n",
              "      fill: #174EA6;\n",
              "    }\n",
              "\n",
              "    .colab-df-buttons div {\n",
              "      margin-bottom: 4px;\n",
              "    }\n",
              "\n",
              "    [theme=dark] .colab-df-convert {\n",
              "      background-color: #3B4455;\n",
              "      fill: #D2E3FC;\n",
              "    }\n",
              "\n",
              "    [theme=dark] .colab-df-convert:hover {\n",
              "      background-color: #434B5C;\n",
              "      box-shadow: 0px 1px 3px 1px rgba(0, 0, 0, 0.15);\n",
              "      filter: drop-shadow(0px 1px 2px rgba(0, 0, 0, 0.3));\n",
              "      fill: #FFFFFF;\n",
              "    }\n",
              "  </style>\n",
              "\n",
              "    <script>\n",
              "      const buttonEl =\n",
              "        document.querySelector('#df-1f5df4d6-f389-4bf9-85c3-24891390ad70 button.colab-df-convert');\n",
              "      buttonEl.style.display =\n",
              "        google.colab.kernel.accessAllowed ? 'block' : 'none';\n",
              "\n",
              "      async function convertToInteractive(key) {\n",
              "        const element = document.querySelector('#df-1f5df4d6-f389-4bf9-85c3-24891390ad70');\n",
              "        const dataTable =\n",
              "          await google.colab.kernel.invokeFunction('convertToInteractive',\n",
              "                                                    [key], {});\n",
              "        if (!dataTable) return;\n",
              "\n",
              "        const docLinkHtml = 'Like what you see? Visit the ' +\n",
              "          '<a target=\"_blank\" href=https://colab.research.google.com/notebooks/data_table.ipynb>data table notebook</a>'\n",
              "          + ' to learn more about interactive tables.';\n",
              "        element.innerHTML = '';\n",
              "        dataTable['output_type'] = 'display_data';\n",
              "        await google.colab.output.renderOutput(dataTable, element);\n",
              "        const docLink = document.createElement('div');\n",
              "        docLink.innerHTML = docLinkHtml;\n",
              "        element.appendChild(docLink);\n",
              "      }\n",
              "    </script>\n",
              "  </div>\n",
              "\n",
              "\n",
              "<div id=\"df-894065ef-cbaf-48b3-84e4-c21949a0253f\">\n",
              "  <button class=\"colab-df-quickchart\" onclick=\"quickchart('df-894065ef-cbaf-48b3-84e4-c21949a0253f')\"\n",
              "            title=\"Suggest charts\"\n",
              "            style=\"display:none;\">\n",
              "\n",
              "<svg xmlns=\"http://www.w3.org/2000/svg\" height=\"24px\"viewBox=\"0 0 24 24\"\n",
              "     width=\"24px\">\n",
              "    <g>\n",
              "        <path d=\"M19 3H5c-1.1 0-2 .9-2 2v14c0 1.1.9 2 2 2h14c1.1 0 2-.9 2-2V5c0-1.1-.9-2-2-2zM9 17H7v-7h2v7zm4 0h-2V7h2v10zm4 0h-2v-4h2v4z\"/>\n",
              "    </g>\n",
              "</svg>\n",
              "  </button>\n",
              "\n",
              "<style>\n",
              "  .colab-df-quickchart {\n",
              "      --bg-color: #E8F0FE;\n",
              "      --fill-color: #1967D2;\n",
              "      --hover-bg-color: #E2EBFA;\n",
              "      --hover-fill-color: #174EA6;\n",
              "      --disabled-fill-color: #AAA;\n",
              "      --disabled-bg-color: #DDD;\n",
              "  }\n",
              "\n",
              "  [theme=dark] .colab-df-quickchart {\n",
              "      --bg-color: #3B4455;\n",
              "      --fill-color: #D2E3FC;\n",
              "      --hover-bg-color: #434B5C;\n",
              "      --hover-fill-color: #FFFFFF;\n",
              "      --disabled-bg-color: #3B4455;\n",
              "      --disabled-fill-color: #666;\n",
              "  }\n",
              "\n",
              "  .colab-df-quickchart {\n",
              "    background-color: var(--bg-color);\n",
              "    border: none;\n",
              "    border-radius: 50%;\n",
              "    cursor: pointer;\n",
              "    display: none;\n",
              "    fill: var(--fill-color);\n",
              "    height: 32px;\n",
              "    padding: 0;\n",
              "    width: 32px;\n",
              "  }\n",
              "\n",
              "  .colab-df-quickchart:hover {\n",
              "    background-color: var(--hover-bg-color);\n",
              "    box-shadow: 0 1px 2px rgba(60, 64, 67, 0.3), 0 1px 3px 1px rgba(60, 64, 67, 0.15);\n",
              "    fill: var(--button-hover-fill-color);\n",
              "  }\n",
              "\n",
              "  .colab-df-quickchart-complete:disabled,\n",
              "  .colab-df-quickchart-complete:disabled:hover {\n",
              "    background-color: var(--disabled-bg-color);\n",
              "    fill: var(--disabled-fill-color);\n",
              "    box-shadow: none;\n",
              "  }\n",
              "\n",
              "  .colab-df-spinner {\n",
              "    border: 2px solid var(--fill-color);\n",
              "    border-color: transparent;\n",
              "    border-bottom-color: var(--fill-color);\n",
              "    animation:\n",
              "      spin 1s steps(1) infinite;\n",
              "  }\n",
              "\n",
              "  @keyframes spin {\n",
              "    0% {\n",
              "      border-color: transparent;\n",
              "      border-bottom-color: var(--fill-color);\n",
              "      border-left-color: var(--fill-color);\n",
              "    }\n",
              "    20% {\n",
              "      border-color: transparent;\n",
              "      border-left-color: var(--fill-color);\n",
              "      border-top-color: var(--fill-color);\n",
              "    }\n",
              "    30% {\n",
              "      border-color: transparent;\n",
              "      border-left-color: var(--fill-color);\n",
              "      border-top-color: var(--fill-color);\n",
              "      border-right-color: var(--fill-color);\n",
              "    }\n",
              "    40% {\n",
              "      border-color: transparent;\n",
              "      border-right-color: var(--fill-color);\n",
              "      border-top-color: var(--fill-color);\n",
              "    }\n",
              "    60% {\n",
              "      border-color: transparent;\n",
              "      border-right-color: var(--fill-color);\n",
              "    }\n",
              "    80% {\n",
              "      border-color: transparent;\n",
              "      border-right-color: var(--fill-color);\n",
              "      border-bottom-color: var(--fill-color);\n",
              "    }\n",
              "    90% {\n",
              "      border-color: transparent;\n",
              "      border-bottom-color: var(--fill-color);\n",
              "    }\n",
              "  }\n",
              "</style>\n",
              "\n",
              "  <script>\n",
              "    async function quickchart(key) {\n",
              "      const quickchartButtonEl =\n",
              "        document.querySelector('#' + key + ' button');\n",
              "      quickchartButtonEl.disabled = true;  // To prevent multiple clicks.\n",
              "      quickchartButtonEl.classList.add('colab-df-spinner');\n",
              "      try {\n",
              "        const charts = await google.colab.kernel.invokeFunction(\n",
              "            'suggestCharts', [key], {});\n",
              "      } catch (error) {\n",
              "        console.error('Error during call to suggestCharts:', error);\n",
              "      }\n",
              "      quickchartButtonEl.classList.remove('colab-df-spinner');\n",
              "      quickchartButtonEl.classList.add('colab-df-quickchart-complete');\n",
              "    }\n",
              "    (() => {\n",
              "      let quickchartButtonEl =\n",
              "        document.querySelector('#df-894065ef-cbaf-48b3-84e4-c21949a0253f button');\n",
              "      quickchartButtonEl.style.display =\n",
              "        google.colab.kernel.accessAllowed ? 'block' : 'none';\n",
              "    })();\n",
              "  </script>\n",
              "</div>\n",
              "\n",
              "    </div>\n",
              "  </div>\n"
            ],
            "application/vnd.google.colaboratory.intrinsic+json": {
              "type": "dataframe",
              "summary": "{\n  \"name\": \"pd\",\n  \"rows\": 1599,\n  \"fields\": [\n    {\n      \"column\": \"fixed acidity\",\n      \"properties\": {\n        \"dtype\": \"number\",\n        \"std\": 1.7410963181276953,\n        \"min\": 4.6,\n        \"max\": 15.9,\n        \"num_unique_values\": 96,\n        \"samples\": [\n          5.3,\n          12.7,\n          12.6\n        ],\n        \"semantic_type\": \"\",\n        \"description\": \"\"\n      }\n    },\n    {\n      \"column\": \"volatile acidity\",\n      \"properties\": {\n        \"dtype\": \"number\",\n        \"std\": 0.17905970415353537,\n        \"min\": 0.12,\n        \"max\": 1.58,\n        \"num_unique_values\": 143,\n        \"samples\": [\n          1.025,\n          0.4,\n          0.87\n        ],\n        \"semantic_type\": \"\",\n        \"description\": \"\"\n      }\n    },\n    {\n      \"column\": \"citric acid\",\n      \"properties\": {\n        \"dtype\": \"number\",\n        \"std\": 0.19480113740531857,\n        \"min\": 0.0,\n        \"max\": 1.0,\n        \"num_unique_values\": 80,\n        \"samples\": [\n          0.37,\n          0.0,\n          0.09\n        ],\n        \"semantic_type\": \"\",\n        \"description\": \"\"\n      }\n    },\n    {\n      \"column\": \"residual sugar\",\n      \"properties\": {\n        \"dtype\": \"number\",\n        \"std\": 1.4099280595072798,\n        \"min\": 0.9,\n        \"max\": 15.5,\n        \"num_unique_values\": 91,\n        \"samples\": [\n          11.0,\n          3.0,\n          15.5\n        ],\n        \"semantic_type\": \"\",\n        \"description\": \"\"\n      }\n    },\n    {\n      \"column\": \"chlorides\",\n      \"properties\": {\n        \"dtype\": \"number\",\n        \"std\": 0.0470653020100901,\n        \"min\": 0.012,\n        \"max\": 0.611,\n        \"num_unique_values\": 153,\n        \"samples\": [\n          0.096,\n          0.3429999999999999,\n          0.159\n        ],\n        \"semantic_type\": \"\",\n        \"description\": \"\"\n      }\n    },\n    {\n      \"column\": \"free sulfur dioxide\",\n      \"properties\": {\n        \"dtype\": \"number\",\n        \"std\": 10.460156969809725,\n        \"min\": 1.0,\n        \"max\": 72.0,\n        \"num_unique_values\": 60,\n        \"samples\": [\n          11.0,\n          9.0,\n          32.0\n        ],\n        \"semantic_type\": \"\",\n        \"description\": \"\"\n      }\n    },\n    {\n      \"column\": \"total sulfur dioxide\",\n      \"properties\": {\n        \"dtype\": \"number\",\n        \"std\": 32.895324478299074,\n        \"min\": 6.0,\n        \"max\": 289.0,\n        \"num_unique_values\": 144,\n        \"samples\": [\n          68.0,\n          35.0,\n          101.0\n        ],\n        \"semantic_type\": \"\",\n        \"description\": \"\"\n      }\n    },\n    {\n      \"column\": \"density\",\n      \"properties\": {\n        \"dtype\": \"number\",\n        \"std\": 0.0018873339538425554,\n        \"min\": 0.99007,\n        \"max\": 1.00369,\n        \"num_unique_values\": 436,\n        \"samples\": [\n          0.99974,\n          1.0001,\n          0.99471\n        ],\n        \"semantic_type\": \"\",\n        \"description\": \"\"\n      }\n    },\n    {\n      \"column\": \"pH\",\n      \"properties\": {\n        \"dtype\": \"number\",\n        \"std\": 0.15438646490354277,\n        \"min\": 2.74,\n        \"max\": 4.01,\n        \"num_unique_values\": 89,\n        \"samples\": [\n          3.07,\n          3.0,\n          3.15\n        ],\n        \"semantic_type\": \"\",\n        \"description\": \"\"\n      }\n    },\n    {\n      \"column\": \"sulphates\",\n      \"properties\": {\n        \"dtype\": \"number\",\n        \"std\": 0.16950697959010996,\n        \"min\": 0.33,\n        \"max\": 2.0,\n        \"num_unique_values\": 96,\n        \"samples\": [\n          1.07,\n          1.04,\n          1.18\n        ],\n        \"semantic_type\": \"\",\n        \"description\": \"\"\n      }\n    },\n    {\n      \"column\": \"alcohol\",\n      \"properties\": {\n        \"dtype\": \"number\",\n        \"std\": 1.0656675818473946,\n        \"min\": 8.4,\n        \"max\": 14.9,\n        \"num_unique_values\": 65,\n        \"samples\": [\n          8.5,\n          9.95,\n          9.4\n        ],\n        \"semantic_type\": \"\",\n        \"description\": \"\"\n      }\n    },\n    {\n      \"column\": \"quality\",\n      \"properties\": {\n        \"dtype\": \"number\",\n        \"std\": 0,\n        \"min\": 3,\n        \"max\": 8,\n        \"num_unique_values\": 6,\n        \"samples\": [\n          5,\n          6,\n          3\n        ],\n        \"semantic_type\": \"\",\n        \"description\": \"\"\n      }\n    }\n  ]\n}"
            }
          },
          "metadata": {},
          "execution_count": 7
        }
      ]
    },
    {
      "cell_type": "code",
      "source": [
        "data = pd.read_csv(\"/content/drive/MyDrive/CODERHOUSE/winequality-red.csv\")"
      ],
      "metadata": {
        "id": "IoHnn4k3m0Pl"
      },
      "execution_count": null,
      "outputs": []
    },
    {
      "cell_type": "markdown",
      "source": [
        "#ESTADÍSTICA DESCRIPTIVA"
      ],
      "metadata": {
        "id": "CtWMWmpdwYbj"
      }
    },
    {
      "cell_type": "code",
      "source": [
        "data = pd.read_csv(\"/content/drive/MyDrive/CODERHOUSE/winequality-red.csv\")\n",
        "filas, columnas = data.shape\n",
        "print(\"Cantidad de filas:\", filas)\n",
        "print(\"Cantidad de columnas:\", columnas)"
      ],
      "metadata": {
        "colab": {
          "base_uri": "https://localhost:8080/"
        },
        "id": "UyNKAgmtwbio",
        "outputId": "3393db77-26af-4951-aca4-3cda14f47877"
      },
      "execution_count": null,
      "outputs": [
        {
          "output_type": "stream",
          "name": "stdout",
          "text": [
            "Cantidad de filas: 1599\n",
            "Cantidad de columnas: 12\n"
          ]
        }
      ]
    },
    {
      "cell_type": "markdown",
      "source": [
        "Corroboramos la existencia de valores nulos\n",
        "\n",
        "Esta sentencia imprimirá la cantidad de valores nulos en cada columna del DataFrame. Si no hay valores nulos, la suma será igual a 0 para todas las columnas. Si hay valores nulos, veremos la cantidad de valores nulos en cada columna.\n",
        "\n",
        "Ejecutado el código llegamos a la conclusión de que no tenemos valores nulos."
      ],
      "metadata": {
        "id": "1bKavI8gxRo_"
      }
    },
    {
      "cell_type": "code",
      "source": [
        "print(data.isnull().sum())"
      ],
      "metadata": {
        "colab": {
          "base_uri": "https://localhost:8080/"
        },
        "id": "SlS6NPs7xOPV",
        "outputId": "2e5d13eb-6314-4976-eaf2-1010ac604f0d"
      },
      "execution_count": null,
      "outputs": [
        {
          "output_type": "stream",
          "name": "stdout",
          "text": [
            "fixed acidity           0\n",
            "volatile acidity        0\n",
            "citric acid             0\n",
            "residual sugar          0\n",
            "chlorides               0\n",
            "free sulfur dioxide     0\n",
            "total sulfur dioxide    0\n",
            "density                 0\n",
            "pH                      0\n",
            "sulphates               0\n",
            "alcohol                 0\n",
            "quality                 0\n",
            "dtype: int64\n"
          ]
        }
      ]
    },
    {
      "cell_type": "markdown",
      "source": [
        "# DESCRIPCIÓN DE VARIABLES\n",
        "\n",
        "Fixed Acidity (Acidez Fija): Representa la concentración de ácidos fijos, como el ácido tartárico, presente en el vino. Esta medida está expresada en gramos por litro (g/L). La acidez fija contribuye a la estructura y estabilidad del vino.\n",
        "\n",
        "Volatile Acidity (Acidez Volátil): Indica la concentración de ácidos volátiles, como el ácido acético, en el vino. Se mide en gramos por litro (g/L). Niveles elevados de acidez volátil pueden dar lugar a sabores avinagrados y afectar negativamente la calidad del vino.\n",
        "\n",
        "Citric Acid (Ácido Cítrico): Es la cantidad de ácido cítrico presente en el vino, expresada en gramos por litro (g/L). El ácido cítrico puede aportar frescura y vivacidad al sabor del vino.\n",
        "\n",
        "Residual Sugar (Azúcar Residual): Representa la cantidad de azúcar que queda en el vino después de la fermentación, expresada en gramos por litro (g/L). El azúcar residual influye en el dulzor del vino.\n",
        "\n",
        "Chlorides (Cloruros): Indica la concentración de cloruros en el vino, medida en gramos por litro (g/L). Los cloruros pueden provenir tanto de la uva como del proceso de vinificación.\n",
        "\n",
        "Free Sulfur Dioxide (Dióxido de Azufre Libre): Es la cantidad de dióxido de azufre presente en forma libre en el vino, expresada en partes por millón (ppm). El dióxido de azufre es un conservante utilizado en el vino para prevenir la oxidación y el crecimiento de microorganismos no deseados.\n",
        "\n",
        "Total Sulfur Dioxide (Dióxido de Azufre Total): Representa la suma del dióxido de azufre libre y el dióxido de azufre ligado en el vino, también expresado en partes por millón (ppm).\n",
        "\n",
        "Density (Densidad): Es la densidad del vino, medida en gramos por centímetro cúbico (g/cm³) o en kilogramos por litro (kg/L). La densidad está influenciada por la cantidad de alcohol y azúcar en el vino.\n",
        "\n",
        "pH: Es una medida de la acidez o alcalinidad del vino en una escala de 0 a 14. Un pH bajo indica alta acidez, mientras que un pH alto indica baja acidez.\n",
        "\n",
        "Sulphates (Sulfatos): Representa la concentración de sulfatos en el vino, expresada en gramos por litro (g/L). Los sulfatos pueden actuar como antioxidantes y estabilizadores en el vino.\n",
        "\n",
        "Alcohol: Indica el porcentaje de alcohol por volumen (% vol) en el vino. El contenido de alcohol influye en el cuerpo y la percepción del calor del vino.\n",
        "\n",
        "Quality (Calidad): Es una medida de la calidad del vino, generalmente en una escala de 0 a 10 o de 1 a 10, donde valores más altos indican una mejor calidad percibida."
      ],
      "metadata": {
        "id": "Qsh4U34nxrnc"
      }
    },
    {
      "cell_type": "markdown",
      "source": [
        "# PLANTEO DE HIPÓTESIS\n",
        "\n",
        "Se plantean algunas preguntas a analizar, como ser:\n",
        "\n",
        "1. Relación entre características químicas y calidad del vino: ¿Existe alguna relación entre las características químicas como la acidez, el contenido de alcohol, los niveles de azúcar, etc., y la calidad del vino? Por ejemplo, ¿los vinos con mayor contenido de alcohol tienden a tener una calidad más alta?\n",
        "2. Impacto del tipo de ácido en la calidad del vino: ¿La presencia de ciertos tipos de ácidos (fijo, volátil, cítrico) afecta a la calidad del vino de manera significativa? ¿Hay alguna combinación óptima de ácidos que contribuya a una calidad superior?\n",
        "3. Influencia del pH en la calidad del vino: El pH puede afectar varios aspectos del vino, como su sabor y estabilidad. ¿Existe una relación entre el pH y la calidad del vino? ¿Los vinos con un pH específico tienden a ser mejor valorados?\n"
      ],
      "metadata": {
        "id": "ZiwAM5AgyYHS"
      }
    },
    {
      "cell_type": "markdown",
      "source": [
        "# VISUALIZACIÓN DE DATOS"
      ],
      "metadata": {
        "id": "KaDWDVDD50M_"
      }
    },
    {
      "cell_type": "code",
      "source": [
        "#Histograma de Calidad (Quality): este gráfico ayuda a visualizar la distribución de la calidad de los vinos.\n",
        "plt.figure(figsize=(8, 6))\n",
        "sns.histplot(data=data, x='quality', bins=10, kde=False, color='deeppink')\n",
        "plt.xlabel('Quality')\n",
        "plt.ylabel('Frequency')\n",
        "plt.title('Histogram of Quality')\n",
        "plt.show()"
      ],
      "metadata": {
        "colab": {
          "base_uri": "https://localhost:8080/",
          "height": 564
        },
        "id": "U12Yg1bQk5mL",
        "outputId": "c37b9f55-8504-4479-f32b-f8454b0172d3"
      },
      "execution_count": null,
      "outputs": [
        {
          "output_type": "display_data",
          "data": {
            "text/plain": [
              "<Figure size 800x600 with 1 Axes>"
            ],
            "image/png": "[encoded data removed]"
          },
          "metadata": {}
        }
      ]
    },
    {
      "cell_type": "markdown",
      "source": [
        "Aquí se observa que los vinos de mejor calidad son aquellos con más graduación alcohólica.\n",
        "\n",
        "*Valor de la conlusión:*\n",
        "\n",
        "Base para investigaciones futuras: La relación entre la calidad del vino y su contenido de alcohol puede servir como punto de partida para investigaciones futuras en el campo de la enología y la psicología del consumidor, profundizando en los mecanismos subyacentes de esta asociación y sus implicaciones en diferentes contextos.\n",
        "\n",
        "Optimización de precios: Esta conclusión puede influir en las decisiones de fijación de precios al sugerir que los vinos con mayor contenido de alcohol pueden ser percibidos como de mayor calidad y, por lo tanto, justificar precios más altos. Sin embargo, también es importante considerar otros factores, como el estilo del vino y la reputación de la marca, al establecer los precios.\n",
        "\n",
        "Mejora de la experiencia del consumidor: Al identificar las preferencias de los consumidores en términos de contenido de alcohol y calidad del vino, las conclusiones del estudio pueden ayudar a mejorar la experiencia del consumidor al ofrecer vinos que se alineen con sus preferencias y expectativas."
      ],
      "metadata": {
        "id": "AWRmOoF7Poln"
      }
    },
    {
      "cell_type": "code",
      "source": [
        "#Histograma de Calidad (Quality): este gráfico ayuda a visualizar la distribución de la calidad de los vinos.\n",
        "plt.hist(data['quality'], bins=10, color='mediumturquoise', edgecolor='black')\n",
        "plt.xlabel('Quality')\n",
        "plt.ylabel('Frequency')\n",
        "plt.title('Histogram of Quality')\n",
        "plt.grid(True)\n",
        "plt.show()"
      ],
      "metadata": {
        "id": "2qr3wMXVtQEu",
        "colab": {
          "base_uri": "https://localhost:8080/",
          "height": 472
        },
        "outputId": "3733989b-ff64-4a8c-a5bf-eed635e7686d"
      },
      "execution_count": null,
      "outputs": [
        {
          "output_type": "display_data",
          "data": {
            "text/plain": [
              "<Figure size 640x480 with 1 Axes>"
            ],
            "image/png": "[encoded data removed]"
          },
          "metadata": {}
        }
      ]
    },
    {
      "cell_type": "code",
      "source": [
        "#Diagrama de Dispersión (Scatter Plot) de pH vs. Acidez Fija (Fixed Acidity):\n",
        "# Este gráfico permite explorar la relación entre el pH y la acidez fija en los vinos.\n",
        "# Podremos ver si hay alguna correlación entre estas dos variables y si existe algún patrón discernible.\n",
        "sns.scatterplot(data=data, x='fixed acidity', y='pH', color='blue', alpha=0.5)\n",
        "plt.xlabel('Fixed Acidity')\n",
        "plt.ylabel('pH')\n",
        "plt.title('Scatter Plot of pH vs. Fixed Acidity')\n",
        "plt.show()"
      ],
      "metadata": {
        "colab": {
          "base_uri": "https://localhost:8080/",
          "height": 472
        },
        "id": "o64xhMmmlB2i",
        "outputId": "77861653-ee99-482b-fbdb-d934b046efcd"
      },
      "execution_count": null,
      "outputs": [
        {
          "output_type": "display_data",
          "data": {
            "text/plain": [
              "<Figure size 640x480 with 1 Axes>"
            ],
            "image/png": "[encoded data removed]"
          },
          "metadata": {}
        }
      ]
    },
    {
      "cell_type": "markdown",
      "source": [
        "Aquí se observa que el pH aumenta y disminuye la acidez del vino. A la inversa, a medida que el pH disminuye la acidez del vino aumenta."
      ],
      "metadata": {
        "id": "sheowQThQAh8"
      }
    },
    {
      "cell_type": "code",
      "source": [
        "#Diagrama de Dispersión (Scatter Plot) de pH vs. Acidez Fija (Fixed Acidity):\n",
        "# Este gráfico permite explorar la relación entre el pH y la acidez fija en los vinos.\n",
        "# Podremos ver si hay alguna correlación entre estas dos variables y si existe algún patrón discernible.\n",
        "fig, ax = plt.subplots()\n",
        "pH = data['pH']\n",
        "fixed_acidity = data['fixed acidity']\n",
        "ax.scatter(fixed_acidity, pH, color='blue', alpha=0.5)\n",
        "ax.set_xlabel('Fixed Acidity')\n",
        "ax.set_ylabel('pH')\n",
        "ax.set_title('Scatter Plot of pH vs. Fixed Acidity')\n",
        "plt.grid(True)\n",
        "plt.show()"
      ],
      "metadata": {
        "colab": {
          "base_uri": "https://localhost:8080/",
          "height": 472
        },
        "id": "6j6lK3k2rUSk",
        "outputId": "5bd5aee4-8a70-4b97-a4d4-dda64df1e7c2"
      },
      "execution_count": null,
      "outputs": [
        {
          "output_type": "display_data",
          "data": {
            "text/plain": [
              "<Figure size 640x480 with 1 Axes>"
            ],
            "image/png": "[encoded data removed]"
          },
          "metadata": {}
        }
      ]
    },
    {
      "cell_type": "markdown",
      "source": [
        "Aquí se observa que el pH aumenta y disminuye la acidez del vino. A la inversa, a medida que el pH disminuye la acidez del vino aumenta."
      ],
      "metadata": {
        "id": "rQxCEClYQqOZ"
      }
    },
    {
      "cell_type": "code",
      "source": [
        "#Diagrama de Cajas (Box Plot) de Alcohol por Calidad:\n",
        "# Diagrama de cajas para visualizar la distribución del contenido de alcohol para cada nivel de calidad de los vinos.\n",
        "# Permitirá identificar si hay alguna variación significativa en el contenido de alcohol en función de la calidad del vino.\n",
        "sns.boxplot(data=data, x='quality', y='alcohol')\n",
        "plt.xlabel('Quality')\n",
        "plt.ylabel('Alcohol')\n",
        "plt.title('Box Plot of Alcohol by Quality')\n",
        "plt.show()"
      ],
      "metadata": {
        "colab": {
          "base_uri": "https://localhost:8080/",
          "height": 472
        },
        "id": "8qZxzEcNlUpo",
        "outputId": "6ab46836-1331-42fc-9d76-e2602bec061a"
      },
      "execution_count": null,
      "outputs": [
        {
          "output_type": "display_data",
          "data": {
            "text/plain": [
              "<Figure size 640x480 with 1 Axes>"
            ],
            "image/png": "[encoded data removed]"
          },
          "metadata": {}
        }
      ]
    },
    {
      "cell_type": "markdown",
      "source": [
        "Aquí se observa que los vinos de mejor calidad son aquellos con más graduación alcohólica."
      ],
      "metadata": {
        "id": "8_vbFvtwQzQk"
      }
    },
    {
      "cell_type": "code",
      "source": [
        "#Diagrama de barras de Alcohol por Calidad:\n",
        "# Diagrama de barras para visualizar la distribución del contenido de alcohol para cada nivel de calidad de los vinos.\n",
        "# Permitirá identificar si hay alguna variación significativa en el contenido de alcohol en función de la calidad del vino.\n",
        "average_alcohol_by_quality = data.groupby('quality')['alcohol'].mean()\n",
        "plt.bar(average_alcohol_by_quality.index, average_alcohol_by_quality, color='magenta')\n",
        "plt.xlabel('Quality')\n",
        "plt.ylabel('Average Alcohol')\n",
        "plt.title('Average Alcohol by Quality')\n",
        "plt.grid(True)\n",
        "plt.show()"
      ],
      "metadata": {
        "colab": {
          "base_uri": "https://localhost:8080/",
          "height": 472
        },
        "id": "4M7xKx_7srOf",
        "outputId": "5d4a179d-d9ff-4a0f-a7e0-34b1cd46f463"
      },
      "execution_count": null,
      "outputs": [
        {
          "output_type": "display_data",
          "data": {
            "text/plain": [
              "<Figure size 640x480 with 1 Axes>"
            ],
            "image/png": "[encoded data removed]"
          },
          "metadata": {}
        }
      ]
    },
    {
      "cell_type": "markdown",
      "source": [
        "Aquí se observa que los vinos de mejor calidad son aquellos con más graduación alcohólica."
      ],
      "metadata": {
        "id": "txWmB4bwQ3L-"
      }
    },
    {
      "cell_type": "code",
      "source": [
        "#Diagrama de Cajas (Box Plot) de Calidad y Ph:\n",
        "# Diagrama de cajas para visualizar la influencia del pH en la calidad del vino.\n",
        "sns.boxplot(x='quality', y='pH', data=data, color='darkgrey')\n",
        "plt.xlabel('Quality')\n",
        "plt.ylabel('pH')\n",
        "plt.title('Influencia del pH en la calidad del vino')\n",
        "plt.grid(True)\n",
        "plt.show()"
      ],
      "metadata": {
        "colab": {
          "base_uri": "https://localhost:8080/",
          "height": 472
        },
        "id": "014ZbkxCREHf",
        "outputId": "b22d07ca-b461-4e04-a878-6fcb0295a909"
      },
      "execution_count": null,
      "outputs": [
        {
          "output_type": "display_data",
          "data": {
            "text/plain": [
              "<Figure size 640x480 with 1 Axes>"
            ],
            "image/png": "[encoded data removed]"
          },
          "metadata": {}
        }
      ]
    },
    {
      "cell_type": "markdown",
      "source": [
        "En este caso no hay una variación llamativa en la calidad del vino a medida que disminuye su pH. Podríamos descartar la hipótesis que a menor pH mejor es la calidad."
      ],
      "metadata": {
        "id": "HOxhYchqR1sZ"
      }
    },
    {
      "cell_type": "markdown",
      "source": [
        "# MACHINE LEARNING\n",
        "\n",
        "Antes de entrenar un modelo de machine learning, es útil realizar un análisis exploratorio de datos para identificar las variables más importantes."
      ],
      "metadata": {
        "id": "W48Ef9uJ36l4"
      }
    },
    {
      "cell_type": "markdown",
      "source": [
        "Correlación: calculamos la correlación entre cada característica y la variable objetivo (en este caso, \"quality\")."
      ],
      "metadata": {
        "id": "n2cQRIV47xE1"
      }
    },
    {
      "cell_type": "code",
      "source": [
        "correlation = data.corr()[\"quality\"].abs().sort_values(ascending=False)\n",
        "print(correlation)"
      ],
      "metadata": {
        "colab": {
          "base_uri": "https://localhost:8080/"
        },
        "id": "nP64SGw564xa",
        "outputId": "9286d4a3-1a8b-4d56-a92f-6cb5892d5cfd"
      },
      "execution_count": null,
      "outputs": [
        {
          "output_type": "stream",
          "name": "stdout",
          "text": [
            "quality                 1.000000\n",
            "alcohol                 0.476166\n",
            "volatile acidity        0.390558\n",
            "sulphates               0.251397\n",
            "citric acid             0.226373\n",
            "total sulfur dioxide    0.185100\n",
            "density                 0.174919\n",
            "chlorides               0.128907\n",
            "fixed acidity           0.124052\n",
            "pH                      0.057731\n",
            "free sulfur dioxide     0.050656\n",
            "residual sugar          0.013732\n",
            "Name: quality, dtype: float64\n"
          ]
        }
      ]
    },
    {
      "cell_type": "markdown",
      "source": [
        "Basándonos en los coeficientes de correlación entre la variable objetivo \"quality\" y las demás características del vino, podemos observar las siguientes relaciones:\n",
        "\n",
        "Alcohol: La variable \"alcohol\" presenta la correlación más alta con la calidad del vino, con un coeficiente de correlación de aproximadamente 0.476. Esto sugiere que hay una relación moderadamente positiva entre el contenido de alcohol en el vino y su calidad percibida. Es decir, vinos con mayor contenido de alcohol tienden a ser percibidos como de mejor calidad.\n",
        "\n",
        "Volatile Acidity (Acidez Volátil): La acidez volátil tiene una correlación moderada negativa con la calidad del vino, alrededor de -0.391. Esto sugiere que vinos con menor acidez volátil tienden a ser percibidos como de mejor calidad.\n",
        "\n",
        "Sulphates (Sulfatos): La concentración de sulfatos en el vino también muestra una correlación moderada positiva con la calidad del vino, con un coeficiente de correlación de aproximadamente 0.251. Esto indica que vinos con mayores niveles de sulfatos pueden ser percibidos como de mejor calidad.\n",
        "\n",
        "Citric Acid (Ácido Cítrico): La correlación con el ácido cítrico es más baja que las anteriores, pero sigue siendo significativa, alrededor de 0.226. Esto sugiere que el ácido cítrico también puede tener una influencia moderada en la calidad del vino.\n",
        "\n",
        "Total Sulfur Dioxide (Dióxido de Azufre Total): Aunque la correlación es más baja que las anteriores, el dióxido de azufre total muestra una relación modesta con la calidad del vino, con un coeficiente de correlación de aproximadamente 0.185."
      ],
      "metadata": {
        "id": "DVQwjqOj7T_G"
      }
    },
    {
      "cell_type": "markdown",
      "source": [
        "# SELECCIÓN DE VARIABLES PARA EL MODELO DE MACHINE LEARNING\n",
        "\n",
        "Basándonos en los coeficientes de correlación entre la calidad del vino y las características químicas proporcionadas en el conjunto de datos, decidimos seleccionar las siguientes características como las más relevantes para incluir en nuestro modelo de machine learning:\n",
        "\n",
        "Alcohol: Presenta la correlación más alta con la calidad del vino, lo que sugiere una relación moderadamente positiva. Por lo tanto, el contenido de alcohol podría ser una característica importante a incluir en el modelo.\n",
        "\n",
        "Volatile Acidity (Acidez Volátil): Aunque la correlación es negativa, la magnitud no es muy alta. Sin embargo, dado su impacto moderado en la calidad del vino, sería prudente considerar la acidez volátil en el modelo.\n",
        "\n",
        "Sulphates (Sulfatos): Aunque la correlación es moderada, los sulfatos muestran una relación positiva con la calidad del vino, lo que sugiere que podrían ser una característica relevante para la predicción de calidad.\n",
        "\n",
        "Citric Acid (Ácido Cítrico): Aunque su correlación es más baja que las anteriores, el ácido cítrico también muestra una relación significativa con la calidad del vino y podría ser útil incluirlo en el modelo."
      ],
      "metadata": {
        "id": "EhyMwUrI8oou"
      }
    },
    {
      "cell_type": "markdown",
      "source": [
        "# MODELO DE REGRESIÓN LINEAL\n",
        "\n",
        "Seleccionamos las variables \"Alcohol\", \"Volatile Acidity\", \"Sulphates\" y \"Citric Acid\" como características para nuestro modelo de machine learning, para construir un modelo de regresión lineal con el objetivo de predecir una variable continua (la calidad del vino)."
      ],
      "metadata": {
        "id": "HYWsdCWL-VvU"
      }
    },
    {
      "cell_type": "code",
      "source": [
        "import pandas as pd\n",
        "from sklearn.model_selection import train_test_split\n",
        "from sklearn.linear_model import LinearRegression\n",
        "from sklearn.metrics import mean_squared_error, r2_score"
      ],
      "metadata": {
        "id": "CJxTMvAa-aoo"
      },
      "execution_count": null,
      "outputs": []
    },
    {
      "cell_type": "code",
      "source": [
        "data = pd.read_csv(\"/content/drive/MyDrive/CODERHOUSE/winequality-red.csv\")"
      ],
      "metadata": {
        "id": "ctPKAZpu-wGn"
      },
      "execution_count": null,
      "outputs": []
    },
    {
      "cell_type": "code",
      "source": [
        "# Seleccionar las características y la variable objetivo\n",
        "X = data[[\"alcohol\", \"volatile acidity\", \"sulphates\", \"citric acid\"]]\n",
        "y = data[\"quality\"]"
      ],
      "metadata": {
        "id": "ToRWL4UJ-jbW"
      },
      "execution_count": null,
      "outputs": []
    },
    {
      "cell_type": "code",
      "source": [
        "# Dividir los datos en conjuntos de entrenamiento y prueba\n",
        "X_train, X_test, y_train, y_test = train_test_split(X, y, test_size=0.2, random_state=42)"
      ],
      "metadata": {
        "id": "tW1V_Sr6-2lS"
      },
      "execution_count": null,
      "outputs": []
    },
    {
      "cell_type": "code",
      "source": [
        "# Crear una instancia del modelo de regresión lineal\n",
        "model = LinearRegression()"
      ],
      "metadata": {
        "id": "npS1ru8T-7EL"
      },
      "execution_count": null,
      "outputs": []
    },
    {
      "cell_type": "code",
      "source": [
        "# Entrenar el modelo\n",
        "model.fit(X_train, y_train)"
      ],
      "metadata": {
        "colab": {
          "base_uri": "https://localhost:8080/",
          "height": 75
        },
        "id": "Dr6Bv2L1--1k",
        "outputId": "a5208927-a1b2-47a7-b3d8-46a88af8af5e"
      },
      "execution_count": null,
      "outputs": [
        {
          "output_type": "execute_result",
          "data": {
            "text/plain": [
              "LinearRegression()"
            ],
            "text/html": [
              "<style>#sk-container-id-1 {color: black;background-color: white;}#sk-container-id-1 pre{padding: 0;}#sk-container-id-1 div.sk-toggleable {background-color: white;}#sk-container-id-1 label.sk-toggleable__label {cursor: pointer;display: block;width: 100%;margin-bottom: 0;padding: 0.3em;box-sizing: border-box;text-align: center;}#sk-container-id-1 label.sk-toggleable__label-arrow:before {content: \"▸\";float: left;margin-right: 0.25em;color: #696969;}#sk-container-id-1 label.sk-toggleable__label-arrow:hover:before {color: black;}#sk-container-id-1 div.sk-estimator:hover label.sk-toggleable__label-arrow:before {color: black;}#sk-container-id-1 div.sk-toggleable__content {max-height: 0;max-width: 0;overflow: hidden;text-align: left;background-color: #f0f8ff;}#sk-container-id-1 div.sk-toggleable__content pre {margin: 0.2em;color: black;border-radius: 0.25em;background-color: #f0f8ff;}#sk-container-id-1 input.sk-toggleable__control:checked~div.sk-toggleable__content {max-height: 200px;max-width: 100%;overflow: auto;}#sk-container-id-1 input.sk-toggleable__control:checked~label.sk-toggleable__label-arrow:before {content: \"▾\";}#sk-container-id-1 div.sk-estimator input.sk-toggleable__control:checked~label.sk-toggleable__label {background-color: #d4ebff;}#sk-container-id-1 div.sk-label input.sk-toggleable__control:checked~label.sk-toggleable__label {background-color: #d4ebff;}#sk-container-id-1 input.sk-hidden--visually {border: 0;clip: rect(1px 1px 1px 1px);clip: rect(1px, 1px, 1px, 1px);height: 1px;margin: -1px;overflow: hidden;padding: 0;position: absolute;width: 1px;}#sk-container-id-1 div.sk-estimator {font-family: monospace;background-color: #f0f8ff;border: 1px dotted black;border-radius: 0.25em;box-sizing: border-box;margin-bottom: 0.5em;}#sk-container-id-1 div.sk-estimator:hover {background-color: #d4ebff;}#sk-container-id-1 div.sk-parallel-item::after {content: \"\";width: 100%;border-bottom: 1px solid gray;flex-grow: 1;}#sk-container-id-1 div.sk-label:hover label.sk-toggleable__label {background-color: #d4ebff;}#sk-container-id-1 div.sk-serial::before {content: \"\";position: absolute;border-left: 1px solid gray;box-sizing: border-box;top: 0;bottom: 0;left: 50%;z-index: 0;}#sk-container-id-1 div.sk-serial {display: flex;flex-direction: column;align-items: center;background-color: white;padding-right: 0.2em;padding-left: 0.2em;position: relative;}#sk-container-id-1 div.sk-item {position: relative;z-index: 1;}#sk-container-id-1 div.sk-parallel {display: flex;align-items: stretch;justify-content: center;background-color: white;position: relative;}#sk-container-id-1 div.sk-item::before, #sk-container-id-1 div.sk-parallel-item::before {content: \"\";position: absolute;border-left: 1px solid gray;box-sizing: border-box;top: 0;bottom: 0;left: 50%;z-index: -1;}#sk-container-id-1 div.sk-parallel-item {display: flex;flex-direction: column;z-index: 1;position: relative;background-color: white;}#sk-container-id-1 div.sk-parallel-item:first-child::after {align-self: flex-end;width: 50%;}#sk-container-id-1 div.sk-parallel-item:last-child::after {align-self: flex-start;width: 50%;}#sk-container-id-1 div.sk-parallel-item:only-child::after {width: 0;}#sk-container-id-1 div.sk-dashed-wrapped {border: 1px dashed gray;margin: 0 0.4em 0.5em 0.4em;box-sizing: border-box;padding-bottom: 0.4em;background-color: white;}#sk-container-id-1 div.sk-label label {font-family: monospace;font-weight: bold;display: inline-block;line-height: 1.2em;}#sk-container-id-1 div.sk-label-container {text-align: center;}#sk-container-id-1 div.sk-container {/* jupyter's `normalize.less` sets `[hidden] { display: none; }` but bootstrap.min.css set `[hidden] { display: none !important; }` so we also need the `!important` here to be able to override the default hidden behavior on the sphinx rendered scikit-learn.org. See: https://github.com/scikit-learn/scikit-learn/issues/21755 */display: inline-block !important;position: relative;}#sk-container-id-1 div.sk-text-repr-fallback {display: none;}</style><div id=\"sk-container-id-1\" class=\"sk-top-container\"><div class=\"sk-text-repr-fallback\"><pre>LinearRegression()</pre><b>In a Jupyter environment, please rerun this cell to show the HTML representation or trust the notebook. <br />On GitHub, the HTML representation is unable to render, please try loading this page with nbviewer.org.</b></div><div class=\"sk-container\" hidden><div class=\"sk-item\"><div class=\"sk-estimator sk-toggleable\"><input class=\"sk-toggleable__control sk-hidden--visually\" id=\"sk-estimator-id-1\" type=\"checkbox\" checked><label for=\"sk-estimator-id-1\" class=\"sk-toggleable__label sk-toggleable__label-arrow\">LinearRegression</label><div class=\"sk-toggleable__content\"><pre>LinearRegression()</pre></div></div></div></div></div>"
            ]
          },
          "metadata": {},
          "execution_count": 20
        }
      ]
    },
    {
      "cell_type": "code",
      "source": [
        "# Realizar predicciones en el conjunto de prueba\n",
        "y_pred = model.predict(X_test)"
      ],
      "metadata": {
        "id": "caRf652L_Icc"
      },
      "execution_count": null,
      "outputs": []
    },
    {
      "cell_type": "code",
      "source": [
        "# Calcular métricas de evaluación\n",
        "mse = mean_squared_error(y_test, y_pred)\n",
        "r2 = r2_score(y_test, y_pred)\n",
        "\n",
        "print(\"Error Cuadrático Medio (MSE):\", mse)\n",
        "print(\"Coeficiente de Determinación (R^2):\", r2)"
      ],
      "metadata": {
        "colab": {
          "base_uri": "https://localhost:8080/"
        },
        "id": "Et7WVk6__Jw0",
        "outputId": "695954ee-83c3-49b9-f2bd-02e605d7e284"
      },
      "execution_count": null,
      "outputs": [
        {
          "output_type": "stream",
          "name": "stdout",
          "text": [
            "Error Cuadrático Medio (MSE): 0.40021634161714986\n",
            "Coeficiente de Determinación (R^2): 0.3875856874490632\n"
          ]
        }
      ]
    },
    {
      "cell_type": "markdown",
      "source": [
        "# ANÁLISIS DE LOS RESULTADOS\n",
        "\n",
        "Los resultados del modelo de regresión lineal son los siguientes:\n",
        "\n",
        "Error Cuadrático Medio (MSE): 0.4002\n",
        "Coeficiente de Determinación (R^2): 0.3876\n",
        "El error cuadrático medio (MSE) es una medida de la calidad de las predicciones del modelo, donde valores más bajos indican mejores predicciones. En este caso, el MSE es de aproximadamente 0.4002, lo que significa que, en promedio, las predicciones del modelo están a una distancia de 0.4002 unidades de la calidad verdadera del vino.\n",
        "\n",
        "El coeficiente de determinación (R^2) es una medida de la capacidad del modelo para explicar la variabilidad de la variable objetivo. El valor de R^2 varía entre 0 y 1, donde 1 indica un ajuste perfecto del modelo a los datos. En este caso, el R^2 es de aproximadamente 0.3876, lo que sugiere que el modelo explica alrededor del 38.76% de la variabilidad observada en la calidad del vino.\n",
        "\n",
        "Estos resultados indican que el modelo de regresión lineal proporciona predicciones, pero podría ser mejorado, ya que tanto el MSE como el R^2 no son muy altos. Podríamos considerar explorar modelos más avanzados o realizar ajustes en las características o hiperparámetros para mejorar el rendimiento del modelo."
      ],
      "metadata": {
        "id": "q72cTKNq_f6R"
      }
    },
    {
      "cell_type": "markdown",
      "source": [
        "# SUPPORT VECTOR MACHINES (SVM)\n",
        "\n",
        "Para clasificar los vinos en diferentes categorías de calidad basadas en las características químicas, podemos utilizar la biblioteca scikit-learn en Python."
      ],
      "metadata": {
        "id": "0i9MBO2_ff4f"
      }
    },
    {
      "cell_type": "code",
      "source": [
        "import pandas as pd\n",
        "from sklearn.model_selection import train_test_split\n",
        "from sklearn.svm import SVC\n",
        "from sklearn.metrics import classification_report, accuracy_score"
      ],
      "metadata": {
        "id": "HnpS2NXHfifj"
      },
      "execution_count": 4,
      "outputs": []
    },
    {
      "cell_type": "code",
      "source": [
        "data = pd.read_csv(\"/content/drive/MyDrive/CODERHOUSE/winequality-red.csv\")"
      ],
      "metadata": {
        "id": "wj86dSG_f1fg"
      },
      "execution_count": 8,
      "outputs": []
    },
    {
      "cell_type": "code",
      "source": [
        "# Seleccionar las características y la variable objetivo\n",
        "X = data.drop(columns=[\"quality\"])  # características\n",
        "y = data[\"quality\"]  # variable objetivo"
      ],
      "metadata": {
        "id": "1og0beB3f7B4"
      },
      "execution_count": 9,
      "outputs": []
    },
    {
      "cell_type": "code",
      "source": [
        "# Dividir los datos en conjuntos de entrenamiento y prueba\n",
        "X_train, X_test, y_train, y_test = train_test_split(X, y, test_size=0.2, random_state=42)"
      ],
      "metadata": {
        "id": "9_MKNLC0giIC"
      },
      "execution_count": 10,
      "outputs": []
    },
    {
      "cell_type": "code",
      "source": [
        "# Crear una instancia del modelo SVM\n",
        "svm_model = SVC(kernel='linear')"
      ],
      "metadata": {
        "id": "6FqYyyWFgloS"
      },
      "execution_count": 11,
      "outputs": []
    },
    {
      "cell_type": "code",
      "source": [
        "# Entrenar el modelo SVM\n",
        "svm_model.fit(X_train, y_train)"
      ],
      "metadata": {
        "colab": {
          "base_uri": "https://localhost:8080/",
          "height": 75
        },
        "id": "IdO5Ku15gm01",
        "outputId": "35060132-7e39-45cc-f4f1-4fa6a38302e9"
      },
      "execution_count": 12,
      "outputs": [
        {
          "output_type": "execute_result",
          "data": {
            "text/plain": [
              "SVC(kernel='linear')"
            ],
            "text/html": [
              "<style>#sk-container-id-1 {color: black;background-color: white;}#sk-container-id-1 pre{padding: 0;}#sk-container-id-1 div.sk-toggleable {background-color: white;}#sk-container-id-1 label.sk-toggleable__label {cursor: pointer;display: block;width: 100%;margin-bottom: 0;padding: 0.3em;box-sizing: border-box;text-align: center;}#sk-container-id-1 label.sk-toggleable__label-arrow:before {content: \"▸\";float: left;margin-right: 0.25em;color: #696969;}#sk-container-id-1 label.sk-toggleable__label-arrow:hover:before {color: black;}#sk-container-id-1 div.sk-estimator:hover label.sk-toggleable__label-arrow:before {color: black;}#sk-container-id-1 div.sk-toggleable__content {max-height: 0;max-width: 0;overflow: hidden;text-align: left;background-color: #f0f8ff;}#sk-container-id-1 div.sk-toggleable__content pre {margin: 0.2em;color: black;border-radius: 0.25em;background-color: #f0f8ff;}#sk-container-id-1 input.sk-toggleable__control:checked~div.sk-toggleable__content {max-height: 200px;max-width: 100%;overflow: auto;}#sk-container-id-1 input.sk-toggleable__control:checked~label.sk-toggleable__label-arrow:before {content: \"▾\";}#sk-container-id-1 div.sk-estimator input.sk-toggleable__control:checked~label.sk-toggleable__label {background-color: #d4ebff;}#sk-container-id-1 div.sk-label input.sk-toggleable__control:checked~label.sk-toggleable__label {background-color: #d4ebff;}#sk-container-id-1 input.sk-hidden--visually {border: 0;clip: rect(1px 1px 1px 1px);clip: rect(1px, 1px, 1px, 1px);height: 1px;margin: -1px;overflow: hidden;padding: 0;position: absolute;width: 1px;}#sk-container-id-1 div.sk-estimator {font-family: monospace;background-color: #f0f8ff;border: 1px dotted black;border-radius: 0.25em;box-sizing: border-box;margin-bottom: 0.5em;}#sk-container-id-1 div.sk-estimator:hover {background-color: #d4ebff;}#sk-container-id-1 div.sk-parallel-item::after {content: \"\";width: 100%;border-bottom: 1px solid gray;flex-grow: 1;}#sk-container-id-1 div.sk-label:hover label.sk-toggleable__label {background-color: #d4ebff;}#sk-container-id-1 div.sk-serial::before {content: \"\";position: absolute;border-left: 1px solid gray;box-sizing: border-box;top: 0;bottom: 0;left: 50%;z-index: 0;}#sk-container-id-1 div.sk-serial {display: flex;flex-direction: column;align-items: center;background-color: white;padding-right: 0.2em;padding-left: 0.2em;position: relative;}#sk-container-id-1 div.sk-item {position: relative;z-index: 1;}#sk-container-id-1 div.sk-parallel {display: flex;align-items: stretch;justify-content: center;background-color: white;position: relative;}#sk-container-id-1 div.sk-item::before, #sk-container-id-1 div.sk-parallel-item::before {content: \"\";position: absolute;border-left: 1px solid gray;box-sizing: border-box;top: 0;bottom: 0;left: 50%;z-index: -1;}#sk-container-id-1 div.sk-parallel-item {display: flex;flex-direction: column;z-index: 1;position: relative;background-color: white;}#sk-container-id-1 div.sk-parallel-item:first-child::after {align-self: flex-end;width: 50%;}#sk-container-id-1 div.sk-parallel-item:last-child::after {align-self: flex-start;width: 50%;}#sk-container-id-1 div.sk-parallel-item:only-child::after {width: 0;}#sk-container-id-1 div.sk-dashed-wrapped {border: 1px dashed gray;margin: 0 0.4em 0.5em 0.4em;box-sizing: border-box;padding-bottom: 0.4em;background-color: white;}#sk-container-id-1 div.sk-label label {font-family: monospace;font-weight: bold;display: inline-block;line-height: 1.2em;}#sk-container-id-1 div.sk-label-container {text-align: center;}#sk-container-id-1 div.sk-container {/* jupyter's `normalize.less` sets `[hidden] { display: none; }` but bootstrap.min.css set `[hidden] { display: none !important; }` so we also need the `!important` here to be able to override the default hidden behavior on the sphinx rendered scikit-learn.org. See: https://github.com/scikit-learn/scikit-learn/issues/21755 */display: inline-block !important;position: relative;}#sk-container-id-1 div.sk-text-repr-fallback {display: none;}</style><div id=\"sk-container-id-1\" class=\"sk-top-container\"><div class=\"sk-text-repr-fallback\"><pre>SVC(kernel=&#x27;linear&#x27;)</pre><b>In a Jupyter environment, please rerun this cell to show the HTML representation or trust the notebook. <br />On GitHub, the HTML representation is unable to render, please try loading this page with nbviewer.org.</b></div><div class=\"sk-container\" hidden><div class=\"sk-item\"><div class=\"sk-estimator sk-toggleable\"><input class=\"sk-toggleable__control sk-hidden--visually\" id=\"sk-estimator-id-1\" type=\"checkbox\" checked><label for=\"sk-estimator-id-1\" class=\"sk-toggleable__label sk-toggleable__label-arrow\">SVC</label><div class=\"sk-toggleable__content\"><pre>SVC(kernel=&#x27;linear&#x27;)</pre></div></div></div></div></div>"
            ]
          },
          "metadata": {},
          "execution_count": 12
        }
      ]
    },
    {
      "cell_type": "code",
      "source": [
        "# Realizar predicciones en el conjunto de prueba\n",
        "y_pred = svm_model.predict(X_test)"
      ],
      "metadata": {
        "id": "GLkKtAm-grWp"
      },
      "execution_count": 13,
      "outputs": []
    },
    {
      "cell_type": "code",
      "source": [
        "# Evaluar el modelo\n",
        "accuracy = accuracy_score(y_test, y_pred)\n",
        "report = classification_report(y_test, y_pred)\n",
        "\n",
        "print(\"Accuracy:\", accuracy)\n",
        "print(\"Classification Report:\\n\", report)"
      ],
      "metadata": {
        "colab": {
          "base_uri": "https://localhost:8080/"
        },
        "id": "LI_RgJflgw6c",
        "outputId": "2da39aac-f462-4b08-82cd-b52b11d69097"
      },
      "execution_count": 14,
      "outputs": [
        {
          "output_type": "stream",
          "name": "stdout",
          "text": [
            "Accuracy: 0.56875\n",
            "Classification Report:\n",
            "               precision    recall  f1-score   support\n",
            "\n",
            "           3       0.00      0.00      0.00         1\n",
            "           4       0.00      0.00      0.00        10\n",
            "           5       0.61      0.78      0.68       130\n",
            "           6       0.52      0.61      0.56       132\n",
            "           7       0.00      0.00      0.00        42\n",
            "           8       0.00      0.00      0.00         5\n",
            "\n",
            "    accuracy                           0.57       320\n",
            "   macro avg       0.19      0.23      0.21       320\n",
            "weighted avg       0.46      0.57      0.51       320\n",
            "\n"
          ]
        },
        {
          "output_type": "stream",
          "name": "stderr",
          "text": [
            "/usr/local/lib/python3.10/dist-packages/sklearn/metrics/_classification.py:1344: UndefinedMetricWarning: Precision and F-score are ill-defined and being set to 0.0 in labels with no predicted samples. Use `zero_division` parameter to control this behavior.\n",
            "  _warn_prf(average, modifier, msg_start, len(result))\n",
            "/usr/local/lib/python3.10/dist-packages/sklearn/metrics/_classification.py:1344: UndefinedMetricWarning: Precision and F-score are ill-defined and being set to 0.0 in labels with no predicted samples. Use `zero_division` parameter to control this behavior.\n",
            "  _warn_prf(average, modifier, msg_start, len(result))\n",
            "/usr/local/lib/python3.10/dist-packages/sklearn/metrics/_classification.py:1344: UndefinedMetricWarning: Precision and F-score are ill-defined and being set to 0.0 in labels with no predicted samples. Use `zero_division` parameter to control this behavior.\n",
            "  _warn_prf(average, modifier, msg_start, len(result))\n"
          ]
        }
      ]
    },
    {
      "cell_type": "markdown",
      "source": [
        "# ANÁLISIS DE LOS RESULTADOS\n",
        "\n",
        "Los resultados muestran una precisión (accuracy) de 0.56875, lo que significa que el modelo SVM tiene una precisión del 56.88% en la clasificación de la calidad del vino. Sin embargo, el informe de clasificación indica que el modelo tiene problemas significativos en la predicción de ciertas categorías, particularmente las categorías 3, 4, 7 y 8, donde la precisión, el recall y el f1-score son todos cero.\n",
        "\n",
        "Estos resultados sugieren que el modelo SVM, tal como está configurado, no está funcionando bien para todas las clases de calidad del vino."
      ],
      "metadata": {
        "id": "2ldk1rgLhdTp"
      }
    },
    {
      "cell_type": "markdown",
      "source": [
        "# MODELO DE REGRESIÓN LOGÍSTICA\n",
        "\n",
        "Construimos un modelo de Regresión Logística para clasificar la calidad del vino basado en las características químicas."
      ],
      "metadata": {
        "id": "T8KcoejLh4gQ"
      }
    },
    {
      "cell_type": "code",
      "source": [
        "import pandas as pd\n",
        "from sklearn.model_selection import train_test_split\n",
        "from sklearn.preprocessing import StandardScaler\n",
        "from sklearn.linear_model import LogisticRegression\n",
        "from sklearn.metrics import classification_report, accuracy_score"
      ],
      "metadata": {
        "id": "mnSzffVIiAjM"
      },
      "execution_count": 15,
      "outputs": []
    },
    {
      "cell_type": "code",
      "source": [
        "data = pd.read_csv(\"/content/drive/MyDrive/CODERHOUSE/winequality-red.csv\")"
      ],
      "metadata": {
        "id": "6i05silniGu0"
      },
      "execution_count": 16,
      "outputs": []
    },
    {
      "cell_type": "code",
      "source": [
        "# Seleccionar las características y la variable objetivo\n",
        "X = data[[\"alcohol\", \"volatile acidity\", \"sulphates\", \"citric acid\"]]\n",
        "y = data[\"quality\"]"
      ],
      "metadata": {
        "id": "iBXhWRI1iJGG"
      },
      "execution_count": 17,
      "outputs": []
    },
    {
      "cell_type": "code",
      "source": [
        "# Dividir los datos en conjuntos de entrenamiento y prueba\n",
        "X_train, X_test, y_train, y_test = train_test_split(X, y, test_size=0.2, random_state=42)"
      ],
      "metadata": {
        "id": "oV--AHYBiJwW"
      },
      "execution_count": 18,
      "outputs": []
    },
    {
      "cell_type": "code",
      "source": [
        "# Crear una instancia del modelo de Regresión Logística\n",
        "log_reg = LogisticRegression(multi_class='multinomial', solver='lbfgs', max_iter=1000)"
      ],
      "metadata": {
        "id": "Lo7SJI_ViOhi"
      },
      "execution_count": 19,
      "outputs": []
    },
    {
      "cell_type": "code",
      "source": [
        "# Entrenar el modelo\n",
        "log_reg.fit(X_train, y_train)"
      ],
      "metadata": {
        "colab": {
          "base_uri": "https://localhost:8080/",
          "height": 75
        },
        "id": "RyWO2XgDiQ43",
        "outputId": "ff996815-0d24-48ab-a232-70025f464800"
      },
      "execution_count": 20,
      "outputs": [
        {
          "output_type": "execute_result",
          "data": {
            "text/plain": [
              "LogisticRegression(max_iter=1000, multi_class='multinomial')"
            ],
            "text/html": [
              "<style>#sk-container-id-2 {color: black;background-color: white;}#sk-container-id-2 pre{padding: 0;}#sk-container-id-2 div.sk-toggleable {background-color: white;}#sk-container-id-2 label.sk-toggleable__label {cursor: pointer;display: block;width: 100%;margin-bottom: 0;padding: 0.3em;box-sizing: border-box;text-align: center;}#sk-container-id-2 label.sk-toggleable__label-arrow:before {content: \"▸\";float: left;margin-right: 0.25em;color: #696969;}#sk-container-id-2 label.sk-toggleable__label-arrow:hover:before {color: black;}#sk-container-id-2 div.sk-estimator:hover label.sk-toggleable__label-arrow:before {color: black;}#sk-container-id-2 div.sk-toggleable__content {max-height: 0;max-width: 0;overflow: hidden;text-align: left;background-color: #f0f8ff;}#sk-container-id-2 div.sk-toggleable__content pre {margin: 0.2em;color: black;border-radius: 0.25em;background-color: #f0f8ff;}#sk-container-id-2 input.sk-toggleable__control:checked~div.sk-toggleable__content {max-height: 200px;max-width: 100%;overflow: auto;}#sk-container-id-2 input.sk-toggleable__control:checked~label.sk-toggleable__label-arrow:before {content: \"▾\";}#sk-container-id-2 div.sk-estimator input.sk-toggleable__control:checked~label.sk-toggleable__label {background-color: #d4ebff;}#sk-container-id-2 div.sk-label input.sk-toggleable__control:checked~label.sk-toggleable__label {background-color: #d4ebff;}#sk-container-id-2 input.sk-hidden--visually {border: 0;clip: rect(1px 1px 1px 1px);clip: rect(1px, 1px, 1px, 1px);height: 1px;margin: -1px;overflow: hidden;padding: 0;position: absolute;width: 1px;}#sk-container-id-2 div.sk-estimator {font-family: monospace;background-color: #f0f8ff;border: 1px dotted black;border-radius: 0.25em;box-sizing: border-box;margin-bottom: 0.5em;}#sk-container-id-2 div.sk-estimator:hover {background-color: #d4ebff;}#sk-container-id-2 div.sk-parallel-item::after {content: \"\";width: 100%;border-bottom: 1px solid gray;flex-grow: 1;}#sk-container-id-2 div.sk-label:hover label.sk-toggleable__label {background-color: #d4ebff;}#sk-container-id-2 div.sk-serial::before {content: \"\";position: absolute;border-left: 1px solid gray;box-sizing: border-box;top: 0;bottom: 0;left: 50%;z-index: 0;}#sk-container-id-2 div.sk-serial {display: flex;flex-direction: column;align-items: center;background-color: white;padding-right: 0.2em;padding-left: 0.2em;position: relative;}#sk-container-id-2 div.sk-item {position: relative;z-index: 1;}#sk-container-id-2 div.sk-parallel {display: flex;align-items: stretch;justify-content: center;background-color: white;position: relative;}#sk-container-id-2 div.sk-item::before, #sk-container-id-2 div.sk-parallel-item::before {content: \"\";position: absolute;border-left: 1px solid gray;box-sizing: border-box;top: 0;bottom: 0;left: 50%;z-index: -1;}#sk-container-id-2 div.sk-parallel-item {display: flex;flex-direction: column;z-index: 1;position: relative;background-color: white;}#sk-container-id-2 div.sk-parallel-item:first-child::after {align-self: flex-end;width: 50%;}#sk-container-id-2 div.sk-parallel-item:last-child::after {align-self: flex-start;width: 50%;}#sk-container-id-2 div.sk-parallel-item:only-child::after {width: 0;}#sk-container-id-2 div.sk-dashed-wrapped {border: 1px dashed gray;margin: 0 0.4em 0.5em 0.4em;box-sizing: border-box;padding-bottom: 0.4em;background-color: white;}#sk-container-id-2 div.sk-label label {font-family: monospace;font-weight: bold;display: inline-block;line-height: 1.2em;}#sk-container-id-2 div.sk-label-container {text-align: center;}#sk-container-id-2 div.sk-container {/* jupyter's `normalize.less` sets `[hidden] { display: none; }` but bootstrap.min.css set `[hidden] { display: none !important; }` so we also need the `!important` here to be able to override the default hidden behavior on the sphinx rendered scikit-learn.org. See: https://github.com/scikit-learn/scikit-learn/issues/21755 */display: inline-block !important;position: relative;}#sk-container-id-2 div.sk-text-repr-fallback {display: none;}</style><div id=\"sk-container-id-2\" class=\"sk-top-container\"><div class=\"sk-text-repr-fallback\"><pre>LogisticRegression(max_iter=1000, multi_class=&#x27;multinomial&#x27;)</pre><b>In a Jupyter environment, please rerun this cell to show the HTML representation or trust the notebook. <br />On GitHub, the HTML representation is unable to render, please try loading this page with nbviewer.org.</b></div><div class=\"sk-container\" hidden><div class=\"sk-item\"><div class=\"sk-estimator sk-toggleable\"><input class=\"sk-toggleable__control sk-hidden--visually\" id=\"sk-estimator-id-2\" type=\"checkbox\" checked><label for=\"sk-estimator-id-2\" class=\"sk-toggleable__label sk-toggleable__label-arrow\">LogisticRegression</label><div class=\"sk-toggleable__content\"><pre>LogisticRegression(max_iter=1000, multi_class=&#x27;multinomial&#x27;)</pre></div></div></div></div></div>"
            ]
          },
          "metadata": {},
          "execution_count": 20
        }
      ]
    },
    {
      "cell_type": "code",
      "source": [
        "# Realizar predicciones en el conjunto de prueba\n",
        "y_pred = log_reg.predict(X_test)"
      ],
      "metadata": {
        "id": "TZJsurd7iTTM"
      },
      "execution_count": 21,
      "outputs": []
    },
    {
      "cell_type": "code",
      "source": [
        "# Evaluar el modelo\n",
        "accuracy = accuracy_score(y_test, y_pred)\n",
        "report = classification_report(y_test, y_pred)\n",
        "\n",
        "print(\"Accuracy:\", accuracy)\n",
        "print(\"Classification Report:\\n\", report)"
      ],
      "metadata": {
        "colab": {
          "base_uri": "https://localhost:8080/"
        },
        "id": "9zTGjBIliWrU",
        "outputId": "1ecb7920-cd94-4f8b-bfc0-927c2bb9b091"
      },
      "execution_count": 22,
      "outputs": [
        {
          "output_type": "stream",
          "name": "stdout",
          "text": [
            "Accuracy: 0.5625\n",
            "Classification Report:\n",
            "               precision    recall  f1-score   support\n",
            "\n",
            "           3       0.00      0.00      0.00         1\n",
            "           4       0.00      0.00      0.00        10\n",
            "           5       0.60      0.81      0.69       130\n",
            "           6       0.54      0.53      0.54       132\n",
            "           7       0.33      0.12      0.18        42\n",
            "           8       0.00      0.00      0.00         5\n",
            "\n",
            "    accuracy                           0.56       320\n",
            "   macro avg       0.25      0.24      0.23       320\n",
            "weighted avg       0.51      0.56      0.52       320\n",
            "\n"
          ]
        },
        {
          "output_type": "stream",
          "name": "stderr",
          "text": [
            "/usr/local/lib/python3.10/dist-packages/sklearn/metrics/_classification.py:1344: UndefinedMetricWarning: Precision and F-score are ill-defined and being set to 0.0 in labels with no predicted samples. Use `zero_division` parameter to control this behavior.\n",
            "  _warn_prf(average, modifier, msg_start, len(result))\n",
            "/usr/local/lib/python3.10/dist-packages/sklearn/metrics/_classification.py:1344: UndefinedMetricWarning: Precision and F-score are ill-defined and being set to 0.0 in labels with no predicted samples. Use `zero_division` parameter to control this behavior.\n",
            "  _warn_prf(average, modifier, msg_start, len(result))\n",
            "/usr/local/lib/python3.10/dist-packages/sklearn/metrics/_classification.py:1344: UndefinedMetricWarning: Precision and F-score are ill-defined and being set to 0.0 in labels with no predicted samples. Use `zero_division` parameter to control this behavior.\n",
            "  _warn_prf(average, modifier, msg_start, len(result))\n"
          ]
        }
      ]
    },
    {
      "cell_type": "markdown",
      "source": [
        "# ANÁLISIS DE LOS RESULTADOS\n",
        "\n",
        "Los resultados muestran una precisión (accuracy) de 0.56875, lo que significa que el modelo tiene una precisión del 56.88% en la clasificación de la calidad del vino. Sin embargo, el informe de clasificación indica que el modelo tiene problemas significativos en la predicción de ciertas categorías, particularmente las categorías 3, 4, 7 y 8, donde la precisión, el recall y el f1-score son todos cero.\n",
        "\n",
        "Estos resultados sugieren que el modelo, tal como está configurado, no está funcionando bien para todas las clases de calidad del vino."
      ],
      "metadata": {
        "id": "pdDIlTNwimqM"
      }
    },
    {
      "cell_type": "markdown",
      "source": [
        "# POSIBLES SOLUCIONES PARA AJUSTAR EL MODELO\n",
        "\n",
        "1. Balanceo de Clases: Utilizar técnicas como SMOTE para manejar el desbalance de clases.\n",
        "2. Ajuste de Hiperparámetros: Experimentar con diferentes configuraciones de regularización.\n",
        "3. Considerar Otras Características: Incluir todas las características disponibles en el conjunto de datos.\n",
        "4. Modelos Avanzados: Considerar otros modelos de clasificación como Random Forest, Gradient Boosting, o modelos de redes neuronales."
      ],
      "metadata": {
        "id": "EwGwngUMi4kn"
      }
    },
    {
      "cell_type": "markdown",
      "source": [
        "# BALANCEO DE CLASES"
      ],
      "metadata": {
        "id": "Ou4VI3gtjCot"
      }
    },
    {
      "cell_type": "code",
      "source": [
        "from imblearn.over_sampling import SMOTE\n",
        "from sklearn.preprocessing import StandardScaler\n",
        "from sklearn.linear_model import LogisticRegression\n",
        "from sklearn.metrics import classification_report, accuracy_score\n",
        "from sklearn.model_selection import train_test_split\n",
        "\n",
        "# Cargar el conjunto de datos\n",
        "data = pd.read_csv(\"/content/drive/MyDrive/CODERHOUSE/winequality-red.csv\")\n",
        "\n",
        "# Seleccionar las características y la variable objetivo\n",
        "X = data.drop(columns=[\"quality\"])  # Usar todas las características disponibles\n",
        "y = data[\"quality\"]\n",
        "\n",
        "# Dividir los datos en conjuntos de entrenamiento y prueba\n",
        "X_train, X_test, y_train, y_test = train_test_split(X, y, test_size=0.2, random_state=42)\n",
        "\n",
        "# Escalar las características\n",
        "scaler = StandardScaler()\n",
        "X_train = scaler.fit_transform(X_train)\n",
        "X_test = scaler.transform(X_test)\n",
        "\n",
        "# Balancear las clases usando SMOTE\n",
        "smote = SMOTE(random_state=42)\n",
        "X_train_smote, y_train_smote = smote.fit_resample(X_train, y_train)\n",
        "\n",
        "# Crear una instancia del modelo de Regresión Logística\n",
        "log_reg = LogisticRegression(multi_class='multinomial', solver='lbfgs', max_iter=1000)\n",
        "\n",
        "# Entrenar el modelo\n",
        "log_reg.fit(X_train_smote, y_train_smote)\n",
        "\n",
        "# Realizar predicciones en el conjunto de prueba\n",
        "y_pred = log_reg.predict(X_test)\n",
        "\n",
        "# Evaluar el modelo\n",
        "accuracy = accuracy_score(y_test, y_pred)\n",
        "report = classification_report(y_test, y_pred)\n",
        "\n",
        "print(\"Accuracy:\", accuracy)\n",
        "print(\"Classification Report:\\n\", report)"
      ],
      "metadata": {
        "colab": {
          "base_uri": "https://localhost:8080/"
        },
        "id": "rOcW9NOBjE3e",
        "outputId": "f3de373c-35f2-4a23-f7b1-817fc003632d"
      },
      "execution_count": 24,
      "outputs": [
        {
          "output_type": "stream",
          "name": "stdout",
          "text": [
            "Accuracy: 0.40625\n",
            "Classification Report:\n",
            "               precision    recall  f1-score   support\n",
            "\n",
            "           3       0.00      0.00      0.00         1\n",
            "           4       0.07      0.40      0.12        10\n",
            "           5       0.65      0.48      0.55       130\n",
            "           6       0.61      0.30      0.40       132\n",
            "           7       0.43      0.52      0.47        42\n",
            "           8       0.09      0.60      0.15         5\n",
            "\n",
            "    accuracy                           0.41       320\n",
            "   macro avg       0.31      0.38      0.28       320\n",
            "weighted avg       0.57      0.41      0.46       320\n",
            "\n"
          ]
        }
      ]
    },
    {
      "cell_type": "markdown",
      "source": [
        "Los resultados después del balanceo de clases muestran una disminución en la precisión general (accuracy) a 0.40625, y el modelo aún enfrenta desafíos significativos en la predicción de algunas clases."
      ],
      "metadata": {
        "id": "XwTVuuPYjsup"
      }
    },
    {
      "cell_type": "markdown",
      "source": [
        "# MODELO DE REGRESIÓN LINEAL (todas las características)\n",
        "\n",
        "Seleccionamos todas las características para nuestro modelo de machine learning, para construir un modelo de regresión lineal con el objetivo de predecir una variable continua (la calidad del vino). Esto se debió a las dificultades encontradas al seleccionar solo algunas."
      ],
      "metadata": {
        "id": "ypwWbPc1j7Ym"
      }
    },
    {
      "cell_type": "code",
      "source": [
        "import pandas as pd\n",
        "from sklearn.model_selection import train_test_split\n",
        "from sklearn.preprocessing import StandardScaler\n",
        "from imblearn.over_sampling import SMOTE\n",
        "from sklearn.linear_model import LogisticRegression\n",
        "from sklearn.metrics import classification_report, accuracy_score\n",
        "from sklearn.ensemble import RandomForestClassifier\n",
        "\n",
        "# Cargar el conjunto de datos\n",
        "data = pd.read_csv(\"/content/drive/MyDrive/CODERHOUSE/winequality-red.csv\")\n",
        "\n",
        "# Seleccionar todas las características y la variable objetivo\n",
        "X = data.drop(columns=[\"quality\"])\n",
        "y = data[\"quality\"]\n",
        "\n",
        "# Dividir los datos en conjuntos de entrenamiento y prueba\n",
        "X_train, X_test, y_train, y_test = train_test_split(X, y, test_size=0.2, random_state=42)\n",
        "\n",
        "# Escalar las características\n",
        "scaler = StandardScaler()\n",
        "X_train = scaler.fit_transform(X_train)\n",
        "X_test = scaler.transform(X_test)\n",
        "\n",
        "# Balancear las clases usando SMOTE\n",
        "smote = SMOTE(random_state=42)\n",
        "X_train_smote, y_train_smote = smote.fit_resample(X_train, y_train)\n",
        "\n",
        "# Crear una instancia del modelo Random Forest\n",
        "rf_model = RandomForestClassifier(n_estimators=100, random_state=42)\n",
        "\n",
        "# Entrenar el modelo\n",
        "rf_model.fit(X_train_smote, y_train_smote)\n",
        "\n",
        "# Realizar predicciones en el conjunto de prueba\n",
        "y_pred = rf_model.predict(X_test)\n",
        "\n",
        "# Evaluar el modelo\n",
        "accuracy = accuracy_score(y_test, y_pred)\n",
        "report = classification_report(y_test, y_pred)\n",
        "\n",
        "print(\"Accuracy:\", accuracy)\n",
        "print(\"Classification Report:\\n\", report)"
      ],
      "metadata": {
        "colab": {
          "base_uri": "https://localhost:8080/"
        },
        "id": "yce-KdlJkIGX",
        "outputId": "06078acf-f3bf-47cf-c84e-fdf50ef7662b"
      },
      "execution_count": 25,
      "outputs": [
        {
          "output_type": "stream",
          "name": "stdout",
          "text": [
            "Accuracy: 0.64375\n",
            "Classification Report:\n",
            "               precision    recall  f1-score   support\n",
            "\n",
            "           3       0.00      0.00      0.00         1\n",
            "           4       0.21      0.40      0.28        10\n",
            "           5       0.75      0.69      0.72       130\n",
            "           6       0.66      0.64      0.65       132\n",
            "           7       0.60      0.64      0.62        42\n",
            "           8       0.20      0.20      0.20         5\n",
            "\n",
            "    accuracy                           0.64       320\n",
            "   macro avg       0.40      0.43      0.41       320\n",
            "weighted avg       0.66      0.64      0.65       320\n",
            "\n"
          ]
        }
      ]
    },
    {
      "cell_type": "markdown",
      "source": [
        "# ANÁLISIS DE RESULTADOS\n",
        "\n",
        "Los resultados indican una mejora significativa en la precisión del modelo al incluir todas las características del dataset.\n",
        "\n",
        "Accuracy (Precisión): 0.64375 significa que el modelo clasifica correctamente aproximadamente el 64.38% de los casos.\n",
        "\n",
        "Observamos que el modelo tiene dificultades con las clases menos representadas (por ejemplo, clase 3 y clase 8)."
      ],
      "metadata": {
        "id": "qE5FM_HPkZ3-"
      }
    },
    {
      "cell_type": "markdown",
      "source": [
        "# POSIBLES MEJORAS\n",
        "\n",
        "Realizamos una prueba implementando todas las mejoras posibles encontradas:\n",
        "\n",
        "1. Técnicas de Balanceo de Clases: Continuar utilizando técnicas como SMOTE para abordar el desbalanceo de clases.\n",
        "2. Feature Engineering: Crear nuevas características basadas en las actuales puede ayudar a mejorar el rendimiento.\n",
        "3. GridSearchCV."
      ],
      "metadata": {
        "id": "AFwkbk8YkxaN"
      }
    },
    {
      "cell_type": "code",
      "source": [
        "import pandas as pd\n",
        "import numpy as np\n",
        "from sklearn.model_selection import train_test_split\n",
        "from sklearn.preprocessing import StandardScaler\n",
        "from sklearn.ensemble import RandomForestClassifier\n",
        "from sklearn.metrics import classification_report, accuracy_score\n",
        "from sklearn.model_selection import GridSearchCV\n",
        "from imblearn.over_sampling import SMOTE\n",
        "\n",
        "# Cargar el conjunto de datos\n",
        "data = pd.read_csv(\"/content/drive/MyDrive/CODERHOUSE/winequality-red.csv\")\n",
        "\n",
        "# Crear nuevas características\n",
        "data['total_acidity'] = data['fixed acidity'] + data['volatile acidity']\n",
        "data['total_sulfur_dioxide_ratio'] = data['free sulfur dioxide'] / data['total sulfur dioxide']\n",
        "\n",
        "# Seleccionar todas las características y la variable objetivo\n",
        "X = data.drop(columns=[\"quality\"])\n",
        "y = data[\"quality\"]\n",
        "\n",
        "# Dividir los datos en conjuntos de entrenamiento y prueba\n",
        "X_train, X_test, y_train, y_test = train_test_split(X, y, test_size=0.2, random_state=42)\n",
        "\n",
        "# Escalar las características\n",
        "scaler = StandardScaler()\n",
        "X_train = scaler.fit_transform(X_train)\n",
        "X_test = scaler.transform(X_test)\n",
        "\n",
        "# Balancear las clases usando SMOTE\n",
        "smote = SMOTE(random_state=42)\n",
        "X_train_smote, y_train_smote = smote.fit_resample(X_train, y_train)\n",
        "\n",
        "# Crear una instancia del modelo Random Forest\n",
        "rf_model = RandomForestClassifier(random_state=42)\n",
        "\n",
        "# Definir el rango de hiperparámetros para buscar\n",
        "param_grid = {\n",
        "    'n_estimators': [50, 100, 200],\n",
        "    'max_depth': [None, 10, 20, 30],\n",
        "    'min_samples_split': [2, 5, 10],\n",
        "    'min_samples_leaf': [1, 2, 4]\n",
        "}\n",
        "\n",
        "# Crear una instancia de GridSearchCV\n",
        "grid_search = GridSearchCV(estimator=rf_model, param_grid=param_grid, cv=5, verbose=2, n_jobs=-1)\n",
        "\n",
        "# Entrenar el modelo usando GridSearchCV\n",
        "grid_search.fit(X_train_smote, y_train_smote)\n",
        "\n",
        "# Mejor hiperparámetro encontrado\n",
        "best_params = grid_search.best_params_\n",
        "print(\"Mejores hiperparámetros:\", best_params)\n",
        "\n",
        "# Usar el mejor modelo para predecir\n",
        "best_rf_model = grid_search.best_estimator_\n",
        "y_pred = best_rf_model.predict(X_test)\n",
        "\n",
        "# Evaluar el modelo\n",
        "accuracy = accuracy_score(y_test, y_pred)\n",
        "report = classification_report(y_test, y_pred)\n",
        "\n",
        "print(\"Accuracy:\", accuracy)\n",
        "print(\"Classification Report:\\n\", report)"
      ],
      "metadata": {
        "colab": {
          "base_uri": "https://localhost:8080/"
        },
        "id": "6THbAjZNkzss",
        "outputId": "8dff4dff-1b5d-4241-fdcf-66b32fe78882"
      },
      "execution_count": 26,
      "outputs": [
        {
          "output_type": "stream",
          "name": "stdout",
          "text": [
            "Fitting 5 folds for each of 108 candidates, totalling 540 fits\n",
            "Mejores hiperparámetros: {'max_depth': None, 'min_samples_leaf': 1, 'min_samples_split': 2, 'n_estimators': 200}\n",
            "Accuracy: 0.6625\n",
            "Classification Report:\n",
            "               precision    recall  f1-score   support\n",
            "\n",
            "           3       0.00      0.00      0.00         1\n",
            "           4       0.29      0.40      0.33        10\n",
            "           5       0.75      0.72      0.73       130\n",
            "           6       0.69      0.63      0.66       132\n",
            "           7       0.57      0.71      0.63        42\n",
            "           8       0.20      0.20      0.20         5\n",
            "\n",
            "    accuracy                           0.66       320\n",
            "   macro avg       0.41      0.44      0.43       320\n",
            "weighted avg       0.67      0.66      0.67       320\n",
            "\n"
          ]
        }
      ]
    },
    {
      "cell_type": "markdown",
      "source": [
        "# ANÁLISIS DE RESULTADOS\n",
        "\n",
        "Hemos obtenido una mejora en la precisión del modelo al optimizar los hiperparámetros con \"RandomizedSearchCV\".\n",
        "\n",
        "Accuracy (Precisión): 0.6625 significa que el modelo clasifica correctamente aproximadamente el 66.25% de los casos, lo cual es una mejora respecto a los intentos anteriores.\n",
        "\n",
        "\n",
        "### Observaciones:\n",
        "\n",
        "Las clases menos representadas (por ejemplo, clases 3 y 8) siguen siendo un desafío para el modelo. La optimización de hiperparámetros y el balanceo de clases han mejorado significativamente la precisión del modelo.\n",
        "\n",
        "Continuar explorando técnicas avanzadas y ajustes adicionales puede llevar a un modelo aún más robusto y preciso."
      ],
      "metadata": {
        "id": "nNuRuxEJm7f0"
      }
    }
  ]
}